{
 "cells": [
  {
   "cell_type": "markdown",
   "metadata": {},
   "source": [
    "**Problem Statement:**\n",
    "- Description:\n",
    "\n",
    "The Global Power Plant Database is a comprehensive, open source database of power plants around the world. It centralizes power plant data to make it easier to navigate, compare and draw insights for one’s own analysis. The database covers approximately 35,000 power plants from 167 countries and includes thermal plants (e.g. coal, gas, oil, nuclear, biomass, waste, geothermal) and renewables (e.g. hydro, wind, solar). Each power plant is geolocated and entries contain information on plant capacity, generation, ownership, and fuel type. It will be continuously updated as data becomes available.<br>\n",
    "<br>\n",
    "Key attributes of the database\n",
    "The database includes the following indicators:\n",
    "\n",
    "- `country` (text): 3 character country code corresponding to the ISO 3166-1 alpha-3 specification [5]\n",
    "- `country_long` (text): longer form of the country designation\n",
    "- `name` (text): name or title of the power plant, generally in Romanized form\n",
    "- `gppd_idnr` (text): 10 or 12 character identifier for the power plant\n",
    "- `capacity_mw` (number): electrical generating capacity in megawatts\n",
    "- `latitude` (number): geolocation in decimal degrees; WGS84 (EPSG:4326)\n",
    "- `longitude` (number): geolocation in decimal degrees; WGS84 (EPSG:4326)\n",
    "- `primary_fuel` (text): energy source used in primary electricity generation or export\n",
    "- `other_fuel1` (text): energy source used in electricity generation or export\n",
    "- `other_fuel2` (text): energy source used in electricity generation or export\n",
    "- `other_fuel3` (text): energy source used in electricity generation or export\n",
    "- `commissioning_year` (number): year of plant operation, weighted by unit-capacity when data is available\n",
    "- `owner` (text): majority shareholder of the power plant, generally in Romanized form\n",
    "- `source` (text): entity reporting the data; could be an organization, report, or document, generally in Romanized form\n",
    "- `url` (text): web document corresponding to the `source` field\n",
    "- `geolocation_source` (text): attribution for geolocation information\n",
    "- `wepp_id` (text): a reference to a unique plant identifier in the widely-used PLATTS-WEPP database.\n",
    "- `year_of_capacity_data` (number): year the capacity information was reported\n",
    "- `generation_gwh_2013` (number): electricity generation in gigawatt-hours reported for the year 2013\n",
    "- `generation_gwh_2014` (number): electricity generation in gigawatt-hours reported for the year 2014\n",
    "- `generation_gwh_2015` (number): electricity generation in gigawatt-hours reported for the year 2015\n",
    "- `generation_gwh_2016` (number): electricity generation in gigawatt-hours reported for the year 2016\n",
    "- `generation_gwh_2017` (number): electricity generation in gigawatt-hours reported for the year 2017\n",
    "- `generation_gwh_2018` (number): electricity generation in gigawatt-hours reported for the year 2018\n",
    "- `generation_gwh_2019` (number): electricity generation in gigawatt-hours reported for the year 2019\n",
    "- `generation_data_source` (text): attribution for the reported generation information\n",
    "- `estimated_generation_gwh_2013` (number): estimated electricity generation in gigawatt-hours for the year 2013\n",
    "- `estimated_generation_gwh_2014` (number): estimated electricity generation in gigawatt-hours for the year 2014 \n",
    "- `estimated_generation_gwh_2015` (number): estimated electricity generation in gigawatt-hours for the year 2015 \n",
    "- `estimated_generation_gwh_2016` (number): estimated electricity generation in gigawatt-hours for the year 2016 \n",
    "- `estimated_generation_gwh_2017` (number): estimated electricity generation in gigawatt-hours for the year 2017 \n",
    "- 'estimated_generation_note_2013` (text): label of the model/method used to estimate generation for the year 2013\n",
    "- `estimated_generation_note_2014` (text): label of the model/method used to estimate generation for the year 2014 \n",
    "- `estimated_generation_note_2015` (text): label of the model/method used to estimate generation for the year 2015\n",
    "- `estimated_generation_note_2016` (text): label of the model/method used to estimate generation for the year 2016\n",
    "- `estimated_generation_note_2017` (text): label of the model/method used to estimate generation for the year 2017 \n",
    "- Fuel Type Aggregation\n",
    "- We define the \"Fuel Type\" attribute of our database based on common fuel categories. \n",
    "\n",
    "### Prediction :   \n",
    "Make two prediction:\n",
    "- 1) Primary Fuel   \n",
    "- 2) capacity_mw "
   ]
  },
  {
   "cell_type": "code",
   "execution_count": 320,
   "metadata": {},
   "outputs": [],
   "source": [
    "## Importing required liabraries\n",
    "import pandas as pd\n",
    "import numpy as np\n",
    "import matplotlib.pyplot as plt\n",
    "import seaborn as sns\n",
    "import warnings\n",
    "pd.set_option('max_columns', None)\n",
    "warnings.filterwarnings('ignore')"
   ]
  },
  {
   "cell_type": "code",
   "execution_count": 321,
   "metadata": {},
   "outputs": [
    {
     "data": {
      "text/html": [
       "<div>\n",
       "<style scoped>\n",
       "    .dataframe tbody tr th:only-of-type {\n",
       "        vertical-align: middle;\n",
       "    }\n",
       "\n",
       "    .dataframe tbody tr th {\n",
       "        vertical-align: top;\n",
       "    }\n",
       "\n",
       "    .dataframe thead th {\n",
       "        text-align: right;\n",
       "    }\n",
       "</style>\n",
       "<table border=\"1\" class=\"dataframe\">\n",
       "  <thead>\n",
       "    <tr style=\"text-align: right;\">\n",
       "      <th></th>\n",
       "      <th>country</th>\n",
       "      <th>country_long</th>\n",
       "      <th>name</th>\n",
       "      <th>gppd_idnr</th>\n",
       "      <th>capacity_mw</th>\n",
       "      <th>latitude</th>\n",
       "      <th>longitude</th>\n",
       "      <th>primary_fuel</th>\n",
       "      <th>other_fuel1</th>\n",
       "      <th>other_fuel2</th>\n",
       "      <th>other_fuel3</th>\n",
       "      <th>commissioning_year</th>\n",
       "      <th>owner</th>\n",
       "      <th>source</th>\n",
       "      <th>url</th>\n",
       "      <th>geolocation_source</th>\n",
       "      <th>wepp_id</th>\n",
       "      <th>year_of_capacity_data</th>\n",
       "      <th>generation_gwh_2013</th>\n",
       "      <th>generation_gwh_2014</th>\n",
       "      <th>generation_gwh_2015</th>\n",
       "      <th>generation_gwh_2016</th>\n",
       "      <th>generation_gwh_2017</th>\n",
       "      <th>generation_data_source</th>\n",
       "      <th>estimated_generation_gwh</th>\n",
       "    </tr>\n",
       "  </thead>\n",
       "  <tbody>\n",
       "    <tr>\n",
       "      <th>0</th>\n",
       "      <td>IND</td>\n",
       "      <td>India</td>\n",
       "      <td>ACME Solar Tower</td>\n",
       "      <td>WRI1020239</td>\n",
       "      <td>2.5</td>\n",
       "      <td>28.1839</td>\n",
       "      <td>73.2407</td>\n",
       "      <td>Solar</td>\n",
       "      <td>NaN</td>\n",
       "      <td>NaN</td>\n",
       "      <td>NaN</td>\n",
       "      <td>2011.0</td>\n",
       "      <td>Solar Paces</td>\n",
       "      <td>National Renewable Energy Laboratory</td>\n",
       "      <td>http://www.nrel.gov/csp/solarpaces/project_det...</td>\n",
       "      <td>National Renewable Energy Laboratory</td>\n",
       "      <td>NaN</td>\n",
       "      <td>NaN</td>\n",
       "      <td>NaN</td>\n",
       "      <td>NaN</td>\n",
       "      <td>NaN</td>\n",
       "      <td>NaN</td>\n",
       "      <td>NaN</td>\n",
       "      <td>NaN</td>\n",
       "      <td>NaN</td>\n",
       "    </tr>\n",
       "    <tr>\n",
       "      <th>1</th>\n",
       "      <td>IND</td>\n",
       "      <td>India</td>\n",
       "      <td>ADITYA CEMENT WORKS</td>\n",
       "      <td>WRI1019881</td>\n",
       "      <td>98.0</td>\n",
       "      <td>24.7663</td>\n",
       "      <td>74.6090</td>\n",
       "      <td>Coal</td>\n",
       "      <td>NaN</td>\n",
       "      <td>NaN</td>\n",
       "      <td>NaN</td>\n",
       "      <td>NaN</td>\n",
       "      <td>Ultratech Cement ltd</td>\n",
       "      <td>Ultratech Cement ltd</td>\n",
       "      <td>http://www.ultratechcement.com/</td>\n",
       "      <td>WRI</td>\n",
       "      <td>NaN</td>\n",
       "      <td>NaN</td>\n",
       "      <td>NaN</td>\n",
       "      <td>NaN</td>\n",
       "      <td>NaN</td>\n",
       "      <td>NaN</td>\n",
       "      <td>NaN</td>\n",
       "      <td>NaN</td>\n",
       "      <td>NaN</td>\n",
       "    </tr>\n",
       "    <tr>\n",
       "      <th>2</th>\n",
       "      <td>IND</td>\n",
       "      <td>India</td>\n",
       "      <td>AES Saurashtra Windfarms</td>\n",
       "      <td>WRI1026669</td>\n",
       "      <td>39.2</td>\n",
       "      <td>21.9038</td>\n",
       "      <td>69.3732</td>\n",
       "      <td>Wind</td>\n",
       "      <td>NaN</td>\n",
       "      <td>NaN</td>\n",
       "      <td>NaN</td>\n",
       "      <td>NaN</td>\n",
       "      <td>AES</td>\n",
       "      <td>CDM</td>\n",
       "      <td>https://cdm.unfccc.int/Projects/DB/DNV-CUK1328...</td>\n",
       "      <td>WRI</td>\n",
       "      <td>NaN</td>\n",
       "      <td>NaN</td>\n",
       "      <td>NaN</td>\n",
       "      <td>NaN</td>\n",
       "      <td>NaN</td>\n",
       "      <td>NaN</td>\n",
       "      <td>NaN</td>\n",
       "      <td>NaN</td>\n",
       "      <td>NaN</td>\n",
       "    </tr>\n",
       "    <tr>\n",
       "      <th>3</th>\n",
       "      <td>IND</td>\n",
       "      <td>India</td>\n",
       "      <td>AGARTALA GT</td>\n",
       "      <td>IND0000001</td>\n",
       "      <td>135.0</td>\n",
       "      <td>23.8712</td>\n",
       "      <td>91.3602</td>\n",
       "      <td>Gas</td>\n",
       "      <td>NaN</td>\n",
       "      <td>NaN</td>\n",
       "      <td>NaN</td>\n",
       "      <td>2004.0</td>\n",
       "      <td>NaN</td>\n",
       "      <td>Central Electricity Authority</td>\n",
       "      <td>http://www.cea.nic.in/</td>\n",
       "      <td>WRI</td>\n",
       "      <td>NaN</td>\n",
       "      <td>2018.0</td>\n",
       "      <td>631.777928</td>\n",
       "      <td>617.789264</td>\n",
       "      <td>843.747</td>\n",
       "      <td>886.004428</td>\n",
       "      <td>663.774500</td>\n",
       "      <td>Central Electricity Authority</td>\n",
       "      <td>NaN</td>\n",
       "    </tr>\n",
       "    <tr>\n",
       "      <th>4</th>\n",
       "      <td>IND</td>\n",
       "      <td>India</td>\n",
       "      <td>AKALTARA TPP</td>\n",
       "      <td>IND0000002</td>\n",
       "      <td>1800.0</td>\n",
       "      <td>21.9603</td>\n",
       "      <td>82.4091</td>\n",
       "      <td>Coal</td>\n",
       "      <td>Oil</td>\n",
       "      <td>NaN</td>\n",
       "      <td>NaN</td>\n",
       "      <td>2015.0</td>\n",
       "      <td>NaN</td>\n",
       "      <td>Central Electricity Authority</td>\n",
       "      <td>http://www.cea.nic.in/</td>\n",
       "      <td>WRI</td>\n",
       "      <td>NaN</td>\n",
       "      <td>2018.0</td>\n",
       "      <td>1668.290000</td>\n",
       "      <td>3035.550000</td>\n",
       "      <td>5916.370</td>\n",
       "      <td>6243.000000</td>\n",
       "      <td>5385.579736</td>\n",
       "      <td>Central Electricity Authority</td>\n",
       "      <td>NaN</td>\n",
       "    </tr>\n",
       "  </tbody>\n",
       "</table>\n",
       "</div>"
      ],
      "text/plain": [
       "  country country_long                      name   gppd_idnr  capacity_mw  \\\n",
       "0     IND        India          ACME Solar Tower  WRI1020239          2.5   \n",
       "1     IND        India       ADITYA CEMENT WORKS  WRI1019881         98.0   \n",
       "2     IND        India  AES Saurashtra Windfarms  WRI1026669         39.2   \n",
       "3     IND        India               AGARTALA GT  IND0000001        135.0   \n",
       "4     IND        India              AKALTARA TPP  IND0000002       1800.0   \n",
       "\n",
       "   latitude  longitude primary_fuel other_fuel1 other_fuel2  other_fuel3  \\\n",
       "0   28.1839    73.2407        Solar         NaN         NaN          NaN   \n",
       "1   24.7663    74.6090         Coal         NaN         NaN          NaN   \n",
       "2   21.9038    69.3732         Wind         NaN         NaN          NaN   \n",
       "3   23.8712    91.3602          Gas         NaN         NaN          NaN   \n",
       "4   21.9603    82.4091         Coal         Oil         NaN          NaN   \n",
       "\n",
       "   commissioning_year                 owner  \\\n",
       "0              2011.0           Solar Paces   \n",
       "1                 NaN  Ultratech Cement ltd   \n",
       "2                 NaN                   AES   \n",
       "3              2004.0                   NaN   \n",
       "4              2015.0                   NaN   \n",
       "\n",
       "                                 source  \\\n",
       "0  National Renewable Energy Laboratory   \n",
       "1                  Ultratech Cement ltd   \n",
       "2                                   CDM   \n",
       "3         Central Electricity Authority   \n",
       "4         Central Electricity Authority   \n",
       "\n",
       "                                                 url  \\\n",
       "0  http://www.nrel.gov/csp/solarpaces/project_det...   \n",
       "1                    http://www.ultratechcement.com/   \n",
       "2  https://cdm.unfccc.int/Projects/DB/DNV-CUK1328...   \n",
       "3                             http://www.cea.nic.in/   \n",
       "4                             http://www.cea.nic.in/   \n",
       "\n",
       "                     geolocation_source  wepp_id  year_of_capacity_data  \\\n",
       "0  National Renewable Energy Laboratory      NaN                    NaN   \n",
       "1                                   WRI      NaN                    NaN   \n",
       "2                                   WRI      NaN                    NaN   \n",
       "3                                   WRI      NaN                 2018.0   \n",
       "4                                   WRI      NaN                 2018.0   \n",
       "\n",
       "   generation_gwh_2013  generation_gwh_2014  generation_gwh_2015  \\\n",
       "0                  NaN                  NaN                  NaN   \n",
       "1                  NaN                  NaN                  NaN   \n",
       "2                  NaN                  NaN                  NaN   \n",
       "3           631.777928           617.789264              843.747   \n",
       "4          1668.290000          3035.550000             5916.370   \n",
       "\n",
       "   generation_gwh_2016  generation_gwh_2017         generation_data_source  \\\n",
       "0                  NaN                  NaN                            NaN   \n",
       "1                  NaN                  NaN                            NaN   \n",
       "2                  NaN                  NaN                            NaN   \n",
       "3           886.004428           663.774500  Central Electricity Authority   \n",
       "4          6243.000000          5385.579736  Central Electricity Authority   \n",
       "\n",
       "   estimated_generation_gwh  \n",
       "0                       NaN  \n",
       "1                       NaN  \n",
       "2                       NaN  \n",
       "3                       NaN  \n",
       "4                       NaN  "
      ]
     },
     "execution_count": 321,
     "metadata": {},
     "output_type": "execute_result"
    }
   ],
   "source": [
    "data=pd.read_csv('database_IND.csv')\n",
    "## Saving a copy of the original dataset\n",
    "data_copy=data\n",
    "\n",
    "data.head()"
   ]
  },
  {
   "cell_type": "code",
   "execution_count": 322,
   "metadata": {},
   "outputs": [
    {
     "data": {
      "text/plain": [
       "(908, 25)"
      ]
     },
     "execution_count": 322,
     "metadata": {},
     "output_type": "execute_result"
    }
   ],
   "source": [
    "data.shape"
   ]
  },
  {
   "cell_type": "code",
   "execution_count": 323,
   "metadata": {},
   "outputs": [
    {
     "name": "stdout",
     "output_type": "stream",
     "text": [
      "<class 'pandas.core.frame.DataFrame'>\n",
      "RangeIndex: 908 entries, 0 to 907\n",
      "Data columns (total 25 columns):\n",
      " #   Column                    Non-Null Count  Dtype  \n",
      "---  ------                    --------------  -----  \n",
      " 0   country                   908 non-null    object \n",
      " 1   country_long              908 non-null    object \n",
      " 2   name                      908 non-null    object \n",
      " 3   gppd_idnr                 908 non-null    object \n",
      " 4   capacity_mw               908 non-null    float64\n",
      " 5   latitude                  862 non-null    float64\n",
      " 6   longitude                 862 non-null    float64\n",
      " 7   primary_fuel              908 non-null    object \n",
      " 8   other_fuel1               199 non-null    object \n",
      " 9   other_fuel2               1 non-null      object \n",
      " 10  other_fuel3               0 non-null      float64\n",
      " 11  commissioning_year        528 non-null    float64\n",
      " 12  owner                     342 non-null    object \n",
      " 13  source                    908 non-null    object \n",
      " 14  url                       908 non-null    object \n",
      " 15  geolocation_source        889 non-null    object \n",
      " 16  wepp_id                   0 non-null      float64\n",
      " 17  year_of_capacity_data     520 non-null    float64\n",
      " 18  generation_gwh_2013       384 non-null    float64\n",
      " 19  generation_gwh_2014       401 non-null    float64\n",
      " 20  generation_gwh_2015       425 non-null    float64\n",
      " 21  generation_gwh_2016       437 non-null    float64\n",
      " 22  generation_gwh_2017       443 non-null    float64\n",
      " 23  generation_data_source    450 non-null    object \n",
      " 24  estimated_generation_gwh  0 non-null      float64\n",
      "dtypes: float64(13), object(12)\n",
      "memory usage: 177.5+ KB\n"
     ]
    }
   ],
   "source": [
    "data.info()"
   ]
  },
  {
   "cell_type": "markdown",
   "metadata": {},
   "source": [
    "Based on general observation of the dataset, we will drop following columns:\n",
    "- country_long\n",
    "- name\n",
    "- gppd_idnr\n",
    "- owner \n",
    "- source\n",
    "- url\n",
    "- wepp_id\n",
    "- generation_data_source\n",
    "- other_fuel1  \n",
    "- other_fuel2 \n",
    "- other_fuel3\n",
    "- estimated_generation_gwh\n",
    "\n",
    "**Above features either stores no important information or have most of the data missing**"
   ]
  },
  {
   "cell_type": "code",
   "execution_count": 324,
   "metadata": {},
   "outputs": [
    {
     "data": {
      "text/plain": [
       "2018.0    520\n",
       "Name: year_of_capacity_data, dtype: int64"
      ]
     },
     "execution_count": 324,
     "metadata": {},
     "output_type": "execute_result"
    }
   ],
   "source": [
    "data['year_of_capacity_data'].value_counts()"
   ]
  },
  {
   "cell_type": "code",
   "execution_count": 325,
   "metadata": {},
   "outputs": [
    {
     "data": {
      "text/plain": [
       "IND    908\n",
       "Name: country, dtype: int64"
      ]
     },
     "execution_count": 325,
     "metadata": {},
     "output_type": "execute_result"
    }
   ],
   "source": [
    "data['country'].value_counts()"
   ]
  },
  {
   "cell_type": "markdown",
   "metadata": {},
   "source": [
    "**We will also drop 'year_of_capacity_data' and 'country' as they only store single value**"
   ]
  },
  {
   "cell_type": "code",
   "execution_count": 326,
   "metadata": {},
   "outputs": [],
   "source": [
    "data.drop(['country_long','name','gppd_idnr','owner','source','url','wepp_id','generation_data_source','other_fuel1','other_fuel2','other_fuel3','estimated_generation_gwh','year_of_capacity_data','country'],axis=1,inplace=True)"
   ]
  },
  {
   "cell_type": "code",
   "execution_count": 327,
   "metadata": {},
   "outputs": [
    {
     "name": "stdout",
     "output_type": "stream",
     "text": [
      "<class 'pandas.core.frame.DataFrame'>\n",
      "RangeIndex: 908 entries, 0 to 907\n",
      "Data columns (total 11 columns):\n",
      " #   Column               Non-Null Count  Dtype  \n",
      "---  ------               --------------  -----  \n",
      " 0   capacity_mw          908 non-null    float64\n",
      " 1   latitude             862 non-null    float64\n",
      " 2   longitude            862 non-null    float64\n",
      " 3   primary_fuel         908 non-null    object \n",
      " 4   commissioning_year   528 non-null    float64\n",
      " 5   geolocation_source   889 non-null    object \n",
      " 6   generation_gwh_2013  384 non-null    float64\n",
      " 7   generation_gwh_2014  401 non-null    float64\n",
      " 8   generation_gwh_2015  425 non-null    float64\n",
      " 9   generation_gwh_2016  437 non-null    float64\n",
      " 10  generation_gwh_2017  443 non-null    float64\n",
      "dtypes: float64(9), object(2)\n",
      "memory usage: 78.2+ KB\n"
     ]
    }
   ],
   "source": [
    "data.info()"
   ]
  },
  {
   "cell_type": "markdown",
   "metadata": {},
   "source": [
    "- Now, we have 8 features and 908 observations.\n",
    "- 'primary_fuel' (object type) and 'capacity_mw' (numeric) are our targets\n",
    "\n",
    "- Following two features have object type data:\n",
    " - country\n",
    " - geolocation_source"
   ]
  },
  {
   "cell_type": "code",
   "execution_count": 328,
   "metadata": {
    "scrolled": true
   },
   "outputs": [
    {
     "data": {
      "text/plain": [
       "capacity_mw              0\n",
       "latitude                46\n",
       "longitude               46\n",
       "primary_fuel             0\n",
       "commissioning_year     380\n",
       "geolocation_source      19\n",
       "generation_gwh_2013    524\n",
       "generation_gwh_2014    507\n",
       "generation_gwh_2015    483\n",
       "generation_gwh_2016    471\n",
       "generation_gwh_2017    465\n",
       "dtype: int64"
      ]
     },
     "execution_count": 328,
     "metadata": {},
     "output_type": "execute_result"
    }
   ],
   "source": [
    "data.isnull().sum()"
   ]
  },
  {
   "cell_type": "markdown",
   "metadata": {},
   "source": [
    "**Following columns have missing data:**\n",
    "- latitude                   :- 46\n",
    "- longitude                  :- 46\n",
    "- commissioning_year        :- 380\n",
    "- geolocation_source         :- 19\n",
    "- generation_gwh_2013       :- 524\n",
    "- generation_gwh_2014       :- 507\n",
    "- generation_gwh_2015       :- 483\n",
    "- generation_gwh_2016       :- 471\n",
    "- generation_gwh_2017       :- 465"
   ]
  },
  {
   "cell_type": "markdown",
   "metadata": {},
   "source": [
    "### Missing Value imputations"
   ]
  },
  {
   "cell_type": "markdown",
   "metadata": {},
   "source": [
    "- Replacing NaNs in 'generation_gwh_2013','generation_gwh_2014','generation_gwh_2015','generation_gwh_2016' by their respective mean values\n"
   ]
  },
  {
   "cell_type": "code",
   "execution_count": 329,
   "metadata": {},
   "outputs": [],
   "source": [
    "for i in data[['generation_gwh_2013','generation_gwh_2014','generation_gwh_2015','generation_gwh_2016','generation_gwh_2017']]:\n",
    "    data[i].fillna(data[i].mean(),inplace=True)"
   ]
  },
  {
   "cell_type": "markdown",
   "metadata": {},
   "source": [
    "- Replacing NaNs in 'commissioning_year' and 'geolocation_source' by the modes of those replective columns"
   ]
  },
  {
   "cell_type": "code",
   "execution_count": 330,
   "metadata": {},
   "outputs": [],
   "source": [
    "data['commissioning_year'].fillna(2013.0,inplace=True)"
   ]
  },
  {
   "cell_type": "code",
   "execution_count": 331,
   "metadata": {},
   "outputs": [],
   "source": [
    "data['geolocation_source'].replace(np.nan,'WRI',inplace=True)"
   ]
  },
  {
   "cell_type": "markdown",
   "metadata": {},
   "source": [
    "- Replacing NaNs in 'latitude' and 'loggitude' by random non-null values in those replective columns"
   ]
  },
  {
   "cell_type": "code",
   "execution_count": 332,
   "metadata": {},
   "outputs": [],
   "source": [
    "import random\n",
    "data['latitude'].fillna(random.choice(data[data['latitude'] != np.nan]['latitude']), inplace =True)"
   ]
  },
  {
   "cell_type": "code",
   "execution_count": 333,
   "metadata": {},
   "outputs": [],
   "source": [
    "data['longitude'].fillna(random.choice(data['longitude'][data['longitude'].notna()]), inplace=True)"
   ]
  },
  {
   "cell_type": "code",
   "execution_count": 334,
   "metadata": {},
   "outputs": [
    {
     "name": "stdout",
     "output_type": "stream",
     "text": [
      "<class 'pandas.core.frame.DataFrame'>\n",
      "RangeIndex: 908 entries, 0 to 907\n",
      "Data columns (total 11 columns):\n",
      " #   Column               Non-Null Count  Dtype  \n",
      "---  ------               --------------  -----  \n",
      " 0   capacity_mw          908 non-null    float64\n",
      " 1   latitude             908 non-null    float64\n",
      " 2   longitude            908 non-null    float64\n",
      " 3   primary_fuel         908 non-null    object \n",
      " 4   commissioning_year   908 non-null    float64\n",
      " 5   geolocation_source   908 non-null    object \n",
      " 6   generation_gwh_2013  908 non-null    float64\n",
      " 7   generation_gwh_2014  908 non-null    float64\n",
      " 8   generation_gwh_2015  908 non-null    float64\n",
      " 9   generation_gwh_2016  908 non-null    float64\n",
      " 10  generation_gwh_2017  908 non-null    float64\n",
      "dtypes: float64(9), object(2)\n",
      "memory usage: 78.2+ KB\n"
     ]
    }
   ],
   "source": [
    "data.info()"
   ]
  },
  {
   "cell_type": "code",
   "execution_count": 335,
   "metadata": {},
   "outputs": [
    {
     "data": {
      "text/plain": [
       "capacity_mw            0\n",
       "latitude               0\n",
       "longitude              0\n",
       "primary_fuel           0\n",
       "commissioning_year     0\n",
       "geolocation_source     0\n",
       "generation_gwh_2013    0\n",
       "generation_gwh_2014    0\n",
       "generation_gwh_2015    0\n",
       "generation_gwh_2016    0\n",
       "generation_gwh_2017    0\n",
       "dtype: int64"
      ]
     },
     "execution_count": 335,
     "metadata": {},
     "output_type": "execute_result"
    }
   ],
   "source": [
    "data.isna().sum()"
   ]
  },
  {
   "cell_type": "markdown",
   "metadata": {},
   "source": [
    "**Successfully treated all the missing values in the data**"
   ]
  },
  {
   "cell_type": "code",
   "execution_count": 336,
   "metadata": {
    "scrolled": true
   },
   "outputs": [
    {
     "data": {
      "text/plain": [
       "<matplotlib.axes._subplots.AxesSubplot at 0x24c798cbf10>"
      ]
     },
     "execution_count": 336,
     "metadata": {},
     "output_type": "execute_result"
    },
    {
     "data": {
      "image/png": "[encoded data removed]",
      "text/plain": [
       "<Figure size 432x288 with 1 Axes>"
      ]
     },
     "metadata": {
      "needs_background": "light"
     },
     "output_type": "display_data"
    }
   ],
   "source": [
    "sns.barplot(x='primary_fuel',y='capacity_mw',data=data)"
   ]
  },
  {
   "cell_type": "markdown",
   "metadata": {},
   "source": [
    "**Majority of power generation is fuelled by 'Nuclear' and 'Coal' fuels**"
   ]
  },
  {
   "cell_type": "code",
   "execution_count": 337,
   "metadata": {},
   "outputs": [
    {
     "data": {
      "text/plain": [
       "<matplotlib.axes._subplots.AxesSubplot at 0x24c6d232220>"
      ]
     },
     "execution_count": 337,
     "metadata": {},
     "output_type": "execute_result"
    },
    {
     "data": {
      "image/png": "[encoded data removed]",
      "text/plain": [
       "<Figure size 432x288 with 1 Axes>"
      ]
     },
     "metadata": {
      "needs_background": "light"
     },
     "output_type": "display_data"
    }
   ],
   "source": [
    "sns.lineplot(x='commissioning_year',y='capacity_mw',data=data)"
   ]
  },
  {
   "cell_type": "markdown",
   "metadata": {},
   "source": [
    "### Checking for skewness and outliers"
   ]
  },
  {
   "cell_type": "code",
   "execution_count": 338,
   "metadata": {
    "scrolled": true
   },
   "outputs": [
    {
     "data": {
      "image/png": "[encoded data removed]",
      "text/plain": [
       "<Figure size 2880x2880 with 4 Axes>"
      ]
     },
     "metadata": {
      "needs_background": "light"
     },
     "output_type": "display_data"
    }
   ],
   "source": [
    "cont_feat=data[['generation_gwh_2013','generation_gwh_2014','generation_gwh_2015','generation_gwh_2016']]\n",
    "plt.figure(figsize=(40,40))\n",
    "plot_number=1\n",
    "\n",
    "for i in cont_feat:\n",
    "    if plot_number<18:\n",
    "        ax=plt.subplot(6,3,plot_number)\n",
    "        sns.distplot(cont_feat[i])\n",
    "        plt.xlabel(i,fontsize=25)\n",
    "    plot_number+=1"
   ]
  },
  {
   "cell_type": "code",
   "execution_count": 339,
   "metadata": {
    "scrolled": true
   },
   "outputs": [
    {
     "data": {
      "text/plain": [
       "generation_gwh_2013    5.241491\n",
       "generation_gwh_2014    5.041961\n",
       "generation_gwh_2015    5.367370\n",
       "generation_gwh_2016    5.071758\n",
       "dtype: float64"
      ]
     },
     "execution_count": 339,
     "metadata": {},
     "output_type": "execute_result"
    }
   ],
   "source": [
    "cont_feat.skew()"
   ]
  },
  {
   "cell_type": "code",
   "execution_count": 340,
   "metadata": {},
   "outputs": [
    {
     "data": {
      "image/png": "[encoded data removed]",
      "text/plain": [
       "<Figure size 2880x2880 with 4 Axes>"
      ]
     },
     "metadata": {
      "needs_background": "light"
     },
     "output_type": "display_data"
    }
   ],
   "source": [
    "cont_feat=data[['generation_gwh_2013','generation_gwh_2014','generation_gwh_2015','generation_gwh_2016']]\n",
    "plt.figure(figsize=(40,40))\n",
    "plot_number=1\n",
    "\n",
    "for i in cont_feat:\n",
    "    if plot_number<18:\n",
    "        ax=plt.subplot(6,3,plot_number)\n",
    "        sns.boxplot(cont_feat[i])\n",
    "        plt.xlabel(i,fontsize=25)\n",
    "    plot_number+=1"
   ]
  },
  {
   "cell_type": "code",
   "execution_count": 341,
   "metadata": {},
   "outputs": [
    {
     "data": {
      "text/plain": [
       "(890, 11)"
      ]
     },
     "execution_count": 341,
     "metadata": {},
     "output_type": "execute_result"
    }
   ],
   "source": [
    "# rejecting data beyond 3 std to manage skewness and outliers\n",
    "from scipy.stats import zscore\n",
    "\n",
    "z_score=zscore(cont_feat)\n",
    "abs_z_score=np.abs(z_score)\n",
    "\n",
    "filtering_entry=(abs_z_score<3).all(axis=1)\n",
    "data=data[filtering_entry]\n",
    "\n",
    "data.shape"
   ]
  },
  {
   "cell_type": "code",
   "execution_count": 342,
   "metadata": {
    "scrolled": true
   },
   "outputs": [
    {
     "data": {
      "text/plain": [
       "generation_gwh_2013    5.241491\n",
       "generation_gwh_2014    5.041961\n",
       "generation_gwh_2015    5.367370\n",
       "generation_gwh_2016    5.071758\n",
       "dtype: float64"
      ]
     },
     "execution_count": 342,
     "metadata": {},
     "output_type": "execute_result"
    }
   ],
   "source": [
    "cont_feat.skew()"
   ]
  },
  {
   "cell_type": "code",
   "execution_count": 343,
   "metadata": {},
   "outputs": [],
   "source": [
    "for i in data[['generation_gwh_2013','generation_gwh_2014','generation_gwh_2015','generation_gwh_2016']]:\n",
    "    if data.skew().loc[i]>0.5:\n",
    "        data[i]=np.sqrt(data[i])"
   ]
  },
  {
   "cell_type": "code",
   "execution_count": 344,
   "metadata": {
    "scrolled": true
   },
   "outputs": [
    {
     "data": {
      "text/plain": [
       "generation_gwh_2013   -0.465132\n",
       "generation_gwh_2014   -0.479213\n",
       "generation_gwh_2015   -0.440114\n",
       "generation_gwh_2016   -0.393898\n",
       "dtype: float64"
      ]
     },
     "execution_count": 344,
     "metadata": {},
     "output_type": "execute_result"
    }
   ],
   "source": [
    "data[['generation_gwh_2013','generation_gwh_2014','generation_gwh_2015','generation_gwh_2016']].skew()"
   ]
  },
  {
   "cell_type": "markdown",
   "metadata": {},
   "source": [
    "- Successfully treated the outliers and the skewness in continuous features"
   ]
  },
  {
   "cell_type": "markdown",
   "metadata": {},
   "source": [
    "**Encoding the object type data**"
   ]
  },
  {
   "cell_type": "code",
   "execution_count": 345,
   "metadata": {},
   "outputs": [],
   "source": [
    "from sklearn.preprocessing import LabelEncoder\n",
    "le=LabelEncoder()\n",
    "\n",
    "a=['primary_fuel','commissioning_year','geolocation_source']\n",
    "\n",
    "for i in a:\n",
    "    data[i]=le.fit_transform(data[i])"
   ]
  },
  {
   "cell_type": "code",
   "execution_count": 346,
   "metadata": {},
   "outputs": [
    {
     "data": {
      "text/html": [
       "<div>\n",
       "<style scoped>\n",
       "    .dataframe tbody tr th:only-of-type {\n",
       "        vertical-align: middle;\n",
       "    }\n",
       "\n",
       "    .dataframe tbody tr th {\n",
       "        vertical-align: top;\n",
       "    }\n",
       "\n",
       "    .dataframe thead th {\n",
       "        text-align: right;\n",
       "    }\n",
       "</style>\n",
       "<table border=\"1\" class=\"dataframe\">\n",
       "  <thead>\n",
       "    <tr style=\"text-align: right;\">\n",
       "      <th></th>\n",
       "      <th>capacity_mw</th>\n",
       "      <th>latitude</th>\n",
       "      <th>longitude</th>\n",
       "      <th>primary_fuel</th>\n",
       "      <th>commissioning_year</th>\n",
       "      <th>geolocation_source</th>\n",
       "      <th>generation_gwh_2013</th>\n",
       "      <th>generation_gwh_2014</th>\n",
       "      <th>generation_gwh_2015</th>\n",
       "      <th>generation_gwh_2016</th>\n",
       "      <th>generation_gwh_2017</th>\n",
       "    </tr>\n",
       "  </thead>\n",
       "  <tbody>\n",
       "    <tr>\n",
       "      <th>0</th>\n",
       "      <td>2.5</td>\n",
       "      <td>28.1839</td>\n",
       "      <td>73.2407</td>\n",
       "      <td>6</td>\n",
       "      <td>65</td>\n",
       "      <td>1</td>\n",
       "      <td>48.000617</td>\n",
       "      <td>49.197493</td>\n",
       "      <td>49.133210</td>\n",
       "      <td>49.537221</td>\n",
       "      <td>2531.754458</td>\n",
       "    </tr>\n",
       "    <tr>\n",
       "      <th>1</th>\n",
       "      <td>98.0</td>\n",
       "      <td>24.7663</td>\n",
       "      <td>74.6090</td>\n",
       "      <td>1</td>\n",
       "      <td>67</td>\n",
       "      <td>2</td>\n",
       "      <td>48.000617</td>\n",
       "      <td>49.197493</td>\n",
       "      <td>49.133210</td>\n",
       "      <td>49.537221</td>\n",
       "      <td>2531.754458</td>\n",
       "    </tr>\n",
       "    <tr>\n",
       "      <th>2</th>\n",
       "      <td>39.2</td>\n",
       "      <td>21.9038</td>\n",
       "      <td>69.3732</td>\n",
       "      <td>7</td>\n",
       "      <td>67</td>\n",
       "      <td>2</td>\n",
       "      <td>48.000617</td>\n",
       "      <td>49.197493</td>\n",
       "      <td>49.133210</td>\n",
       "      <td>49.537221</td>\n",
       "      <td>2531.754458</td>\n",
       "    </tr>\n",
       "    <tr>\n",
       "      <th>3</th>\n",
       "      <td>135.0</td>\n",
       "      <td>23.8712</td>\n",
       "      <td>91.3602</td>\n",
       "      <td>2</td>\n",
       "      <td>58</td>\n",
       "      <td>2</td>\n",
       "      <td>25.135193</td>\n",
       "      <td>24.855367</td>\n",
       "      <td>29.047323</td>\n",
       "      <td>29.765827</td>\n",
       "      <td>663.774500</td>\n",
       "    </tr>\n",
       "    <tr>\n",
       "      <th>4</th>\n",
       "      <td>1800.0</td>\n",
       "      <td>21.9603</td>\n",
       "      <td>82.4091</td>\n",
       "      <td>1</td>\n",
       "      <td>69</td>\n",
       "      <td>2</td>\n",
       "      <td>40.844706</td>\n",
       "      <td>55.095826</td>\n",
       "      <td>76.917943</td>\n",
       "      <td>79.012657</td>\n",
       "      <td>5385.579736</td>\n",
       "    </tr>\n",
       "  </tbody>\n",
       "</table>\n",
       "</div>"
      ],
      "text/plain": [
       "   capacity_mw  latitude  longitude  primary_fuel  commissioning_year  \\\n",
       "0          2.5   28.1839    73.2407             6                  65   \n",
       "1         98.0   24.7663    74.6090             1                  67   \n",
       "2         39.2   21.9038    69.3732             7                  67   \n",
       "3        135.0   23.8712    91.3602             2                  58   \n",
       "4       1800.0   21.9603    82.4091             1                  69   \n",
       "\n",
       "   geolocation_source  generation_gwh_2013  generation_gwh_2014  \\\n",
       "0                   1            48.000617            49.197493   \n",
       "1                   2            48.000617            49.197493   \n",
       "2                   2            48.000617            49.197493   \n",
       "3                   2            25.135193            24.855367   \n",
       "4                   2            40.844706            55.095826   \n",
       "\n",
       "   generation_gwh_2015  generation_gwh_2016  generation_gwh_2017  \n",
       "0            49.133210            49.537221          2531.754458  \n",
       "1            49.133210            49.537221          2531.754458  \n",
       "2            49.133210            49.537221          2531.754458  \n",
       "3            29.047323            29.765827           663.774500  \n",
       "4            76.917943            79.012657          5385.579736  "
      ]
     },
     "execution_count": 346,
     "metadata": {},
     "output_type": "execute_result"
    }
   ],
   "source": [
    "data.head()"
   ]
  },
  {
   "cell_type": "code",
   "execution_count": 347,
   "metadata": {
    "scrolled": true
   },
   "outputs": [
    {
     "data": {
      "image/png": "[encoded data removed]",
      "text/plain": [
       "<Figure size 2880x2880 with 4 Axes>"
      ]
     },
     "metadata": {
      "needs_background": "light"
     },
     "output_type": "display_data"
    }
   ],
   "source": [
    "cont_feat=data[['generation_gwh_2013','generation_gwh_2014','generation_gwh_2015','generation_gwh_2016']]\n",
    "plt.figure(figsize=(40,40))\n",
    "plot_number=1\n",
    "\n",
    "for i in cont_feat:\n",
    "    if plot_number<18:\n",
    "        ax=plt.subplot(6,3,plot_number)\n",
    "        plt.scatter(cont_feat[i],data['capacity_mw'])\n",
    "        plt.xlabel(i,fontsize=25)\n",
    "    plot_number+=1\n"
   ]
  },
  {
   "cell_type": "markdown",
   "metadata": {},
   "source": [
    "- All four continuous features show somewhat linear relationship with the target"
   ]
  },
  {
   "cell_type": "code",
   "execution_count": 348,
   "metadata": {
    "scrolled": false
   },
   "outputs": [
    {
     "data": {
      "text/plain": [
       "capacity_mw            1.000000\n",
       "latitude               0.042294\n",
       "longitude              0.172182\n",
       "primary_fuel          -0.395124\n",
       "commissioning_year     0.020269\n",
       "geolocation_source     0.228139\n",
       "generation_gwh_2013    0.247250\n",
       "generation_gwh_2014    0.250230\n",
       "generation_gwh_2015    0.270136\n",
       "generation_gwh_2016    0.332579\n",
       "generation_gwh_2017    0.537928\n",
       "dtype: float64"
      ]
     },
     "execution_count": 348,
     "metadata": {},
     "output_type": "execute_result"
    }
   ],
   "source": [
    "data.corrwith(data['capacity_mw'])"
   ]
  },
  {
   "cell_type": "markdown",
   "metadata": {},
   "source": [
    "- 'primary_fuel', 'generation_gwh_2016', 'generation_gwh_2017' show moderate relationship with the target\n",
    "- 'latitude','commissioning_year' show very weak relationship with the target"
   ]
  },
  {
   "cell_type": "markdown",
   "metadata": {},
   "source": [
    "<font color='red'>\n",
    "             \n",
    "# Regression analysis for 'capacity_mw' prediction"
   ]
  },
  {
   "cell_type": "code",
   "execution_count": 349,
   "metadata": {},
   "outputs": [],
   "source": [
    "Xr=data.drop('capacity_mw',axis=1)\n",
    "yr=data['capacity_mw']"
   ]
  },
  {
   "cell_type": "markdown",
   "metadata": {},
   "source": [
    "**Scaling the features**"
   ]
  },
  {
   "cell_type": "code",
   "execution_count": 350,
   "metadata": {},
   "outputs": [],
   "source": [
    "from sklearn.preprocessing import StandardScaler\n",
    "scaler=StandardScaler()"
   ]
  },
  {
   "cell_type": "code",
   "execution_count": 351,
   "metadata": {},
   "outputs": [],
   "source": [
    "Xr=scaler.fit_transform(Xr)"
   ]
  },
  {
   "cell_type": "markdown",
   "metadata": {},
   "source": [
    "**Splitting the data into training and testing sets**"
   ]
  },
  {
   "cell_type": "code",
   "execution_count": 352,
   "metadata": {},
   "outputs": [],
   "source": [
    "from sklearn.model_selection import train_test_split"
   ]
  },
  {
   "cell_type": "code",
   "execution_count": 353,
   "metadata": {},
   "outputs": [],
   "source": [
    "Xr_train,Xr_test,yr_train,yr_test=train_test_split(Xr,yr,test_size=0.2,random_state=42)"
   ]
  },
  {
   "cell_type": "markdown",
   "metadata": {},
   "source": [
    "**Importing regression performance metrics**"
   ]
  },
  {
   "cell_type": "code",
   "execution_count": 354,
   "metadata": {},
   "outputs": [],
   "source": [
    "from sklearn.metrics import r2_score,mean_absolute_error,mean_squared_error\n",
    "from sklearn.model_selection import cross_val_score"
   ]
  },
  {
   "cell_type": "markdown",
   "metadata": {},
   "source": [
    "## Model 1: Linear Regression"
   ]
  },
  {
   "cell_type": "code",
   "execution_count": 355,
   "metadata": {},
   "outputs": [],
   "source": [
    "from sklearn.linear_model import LinearRegression\n",
    "lr=LinearRegression()"
   ]
  },
  {
   "cell_type": "code",
   "execution_count": 356,
   "metadata": {},
   "outputs": [
    {
     "data": {
      "text/plain": [
       "LinearRegression()"
      ]
     },
     "execution_count": 356,
     "metadata": {},
     "output_type": "execute_result"
    }
   ],
   "source": [
    "lr.fit(Xr_train,yr_train)"
   ]
  },
  {
   "cell_type": "code",
   "execution_count": 358,
   "metadata": {},
   "outputs": [],
   "source": [
    "y_lr=lr.predict(Xr_test)"
   ]
  },
  {
   "cell_type": "code",
   "execution_count": 359,
   "metadata": {},
   "outputs": [
    {
     "data": {
      "text/plain": [
       "0.5305480738445486"
      ]
     },
     "execution_count": 359,
     "metadata": {},
     "output_type": "execute_result"
    }
   ],
   "source": [
    "lr_score=r2_score(yr_test,y_lr)\n",
    "lr_score"
   ]
  },
  {
   "cell_type": "code",
   "execution_count": 360,
   "metadata": {},
   "outputs": [
    {
     "data": {
      "text/plain": [
       "333.0428302774909"
      ]
     },
     "execution_count": 360,
     "metadata": {},
     "output_type": "execute_result"
    }
   ],
   "source": [
    "lr_rmse=np.sqrt(mean_squared_error(yr_test,y_lr))\n",
    "lr_rmse"
   ]
  },
  {
   "cell_type": "code",
   "execution_count": 361,
   "metadata": {},
   "outputs": [
    {
     "data": {
      "text/plain": [
       "14.927565260055536"
      ]
     },
     "execution_count": 361,
     "metadata": {},
     "output_type": "execute_result"
    }
   ],
   "source": [
    "lr_rmae=np.sqrt(mean_absolute_error(yr_test,y_lr))\n",
    "lr_rmae"
   ]
  },
  {
   "cell_type": "code",
   "execution_count": 363,
   "metadata": {},
   "outputs": [
    {
     "data": {
      "text/plain": [
       "0.4246879066513582"
      ]
     },
     "execution_count": 363,
     "metadata": {},
     "output_type": "execute_result"
    }
   ],
   "source": [
    "lr_cvs=cross_val_score(lr,Xr,yr,cv=5).mean()\n",
    "lr_cvs"
   ]
  },
  {
   "cell_type": "markdown",
   "metadata": {},
   "source": [
    "## Model 2: KNN Regressor"
   ]
  },
  {
   "cell_type": "code",
   "execution_count": 385,
   "metadata": {},
   "outputs": [],
   "source": [
    "from sklearn.neighbors import KNeighborsRegressor\n",
    "knr=KNeighborsRegressor(n_neighbors=5)"
   ]
  },
  {
   "cell_type": "code",
   "execution_count": 386,
   "metadata": {},
   "outputs": [
    {
     "data": {
      "text/plain": [
       "KNeighborsRegressor()"
      ]
     },
     "execution_count": 386,
     "metadata": {},
     "output_type": "execute_result"
    }
   ],
   "source": [
    "knr.fit(Xr_train,yr_train)"
   ]
  },
  {
   "cell_type": "code",
   "execution_count": 387,
   "metadata": {},
   "outputs": [],
   "source": [
    "y_knr=knr.predict(Xr_test)"
   ]
  },
  {
   "cell_type": "code",
   "execution_count": 388,
   "metadata": {},
   "outputs": [
    {
     "data": {
      "text/plain": [
       "0.7717981430257073"
      ]
     },
     "execution_count": 388,
     "metadata": {},
     "output_type": "execute_result"
    }
   ],
   "source": [
    "knr_score=r2_score(yr_test,y_knr)\n",
    "knr_score"
   ]
  },
  {
   "cell_type": "code",
   "execution_count": 389,
   "metadata": {},
   "outputs": [
    {
     "data": {
      "text/plain": [
       "232.2010145973077"
      ]
     },
     "execution_count": 389,
     "metadata": {},
     "output_type": "execute_result"
    }
   ],
   "source": [
    "knr_rmse=np.sqrt(mean_squared_error(yr_test,y_knr))\n",
    "knr_rmse"
   ]
  },
  {
   "cell_type": "code",
   "execution_count": 390,
   "metadata": {},
   "outputs": [
    {
     "data": {
      "text/plain": [
       "10.280436367689475"
      ]
     },
     "execution_count": 390,
     "metadata": {},
     "output_type": "execute_result"
    }
   ],
   "source": [
    "knr_rmae=np.sqrt(mean_absolute_error(yr_test,y_knr))\n",
    "knr_rmae"
   ]
  },
  {
   "cell_type": "code",
   "execution_count": 397,
   "metadata": {},
   "outputs": [
    {
     "data": {
      "text/plain": [
       "0.6703778428469027"
      ]
     },
     "execution_count": 397,
     "metadata": {},
     "output_type": "execute_result"
    }
   ],
   "source": [
    "knr_cvs=cross_val_score(knr,Xr,yr,cv=5).mean()\n",
    "knr_cvs"
   ]
  },
  {
   "cell_type": "markdown",
   "metadata": {},
   "source": [
    "## Model 3: SVR"
   ]
  },
  {
   "cell_type": "code",
   "execution_count": 391,
   "metadata": {},
   "outputs": [],
   "source": [
    "from sklearn.svm import SVR\n",
    "svr=SVR()"
   ]
  },
  {
   "cell_type": "code",
   "execution_count": 392,
   "metadata": {},
   "outputs": [
    {
     "data": {
      "text/plain": [
       "SVR()"
      ]
     },
     "execution_count": 392,
     "metadata": {},
     "output_type": "execute_result"
    }
   ],
   "source": [
    "svr.fit(Xr_train,yr_train)"
   ]
  },
  {
   "cell_type": "code",
   "execution_count": 393,
   "metadata": {},
   "outputs": [],
   "source": [
    "y_svr=svr.predict(Xr_test)"
   ]
  },
  {
   "cell_type": "code",
   "execution_count": 394,
   "metadata": {},
   "outputs": [
    {
     "data": {
      "text/plain": [
       "-0.1832715987575153"
      ]
     },
     "execution_count": 394,
     "metadata": {},
     "output_type": "execute_result"
    }
   ],
   "source": [
    "svr_score=r2_score(yr_test,y_svr)\n",
    "svr_score"
   ]
  },
  {
   "cell_type": "code",
   "execution_count": 398,
   "metadata": {},
   "outputs": [
    {
     "data": {
      "text/plain": [
       "528.7455755120017"
      ]
     },
     "execution_count": 398,
     "metadata": {},
     "output_type": "execute_result"
    }
   ],
   "source": [
    "svr_rmse=np.sqrt(mean_squared_error(yr_test,y_svr))\n",
    "svr_rmse"
   ]
  },
  {
   "cell_type": "code",
   "execution_count": 399,
   "metadata": {},
   "outputs": [
    {
     "data": {
      "text/plain": [
       "16.13158376567782"
      ]
     },
     "execution_count": 399,
     "metadata": {},
     "output_type": "execute_result"
    }
   ],
   "source": [
    "svr_rmae=np.sqrt(mean_absolute_error(yr_test,y_svr))\n",
    "svr_rmae"
   ]
  },
  {
   "cell_type": "code",
   "execution_count": 400,
   "metadata": {},
   "outputs": [
    {
     "data": {
      "text/plain": [
       "-0.1885708440081403"
      ]
     },
     "execution_count": 400,
     "metadata": {},
     "output_type": "execute_result"
    }
   ],
   "source": [
    "svr_cvs=cross_val_score(svr,Xr,yr,cv=5).mean()\n",
    "svr_cvs"
   ]
  },
  {
   "cell_type": "markdown",
   "metadata": {},
   "source": [
    "## Model 4: Random Forest Regressor"
   ]
  },
  {
   "cell_type": "code",
   "execution_count": 401,
   "metadata": {},
   "outputs": [],
   "source": [
    "from sklearn.ensemble import RandomForestRegressor\n",
    "rfr=RandomForestRegressor()"
   ]
  },
  {
   "cell_type": "code",
   "execution_count": 402,
   "metadata": {},
   "outputs": [
    {
     "data": {
      "text/plain": [
       "RandomForestRegressor()"
      ]
     },
     "execution_count": 402,
     "metadata": {},
     "output_type": "execute_result"
    }
   ],
   "source": [
    "rfr.fit(Xr_train,yr_train)"
   ]
  },
  {
   "cell_type": "code",
   "execution_count": 403,
   "metadata": {},
   "outputs": [],
   "source": [
    "y_rfr=rfr.predict(Xr_test)"
   ]
  },
  {
   "cell_type": "code",
   "execution_count": 404,
   "metadata": {},
   "outputs": [
    {
     "data": {
      "text/plain": [
       "0.8110966203414351"
      ]
     },
     "execution_count": 404,
     "metadata": {},
     "output_type": "execute_result"
    }
   ],
   "source": [
    "rfr_score=r2_score(yr_test,y_rfr)\n",
    "rfr_score"
   ]
  },
  {
   "cell_type": "code",
   "execution_count": 405,
   "metadata": {},
   "outputs": [
    {
     "data": {
      "text/plain": [
       "211.26346083025902"
      ]
     },
     "execution_count": 405,
     "metadata": {},
     "output_type": "execute_result"
    }
   ],
   "source": [
    "rfr_rmse=np.sqrt(mean_squared_error(yr_test,y_rfr))\n",
    "rfr_rmse"
   ]
  },
  {
   "cell_type": "code",
   "execution_count": 406,
   "metadata": {},
   "outputs": [
    {
     "data": {
      "text/plain": [
       "9.799427377878482"
      ]
     },
     "execution_count": 406,
     "metadata": {},
     "output_type": "execute_result"
    }
   ],
   "source": [
    "rfr_rmae=np.sqrt(mean_absolute_error(yr_test,y_rfr))\n",
    "rfr_rmae"
   ]
  },
  {
   "cell_type": "code",
   "execution_count": 407,
   "metadata": {},
   "outputs": [
    {
     "data": {
      "text/plain": [
       "0.7542819660593887"
      ]
     },
     "execution_count": 407,
     "metadata": {},
     "output_type": "execute_result"
    }
   ],
   "source": [
    "rfr_cvs=cross_val_score(rfr,Xr,yr,cv=5).mean()\n",
    "rfr_cvs"
   ]
  },
  {
   "cell_type": "markdown",
   "metadata": {},
   "source": [
    "## Model 5: Gradient Boosting Regressor"
   ]
  },
  {
   "cell_type": "code",
   "execution_count": 408,
   "metadata": {},
   "outputs": [],
   "source": [
    "from sklearn.ensemble import GradientBoostingRegressor\n",
    "gbr=GradientBoostingRegressor()"
   ]
  },
  {
   "cell_type": "code",
   "execution_count": 409,
   "metadata": {},
   "outputs": [
    {
     "data": {
      "text/plain": [
       "GradientBoostingRegressor()"
      ]
     },
     "execution_count": 409,
     "metadata": {},
     "output_type": "execute_result"
    }
   ],
   "source": [
    "gbr.fit(Xr_train,yr_train)"
   ]
  },
  {
   "cell_type": "code",
   "execution_count": 411,
   "metadata": {},
   "outputs": [],
   "source": [
    "y_gbr=gbr.predict(Xr_test)"
   ]
  },
  {
   "cell_type": "code",
   "execution_count": 412,
   "metadata": {},
   "outputs": [
    {
     "data": {
      "text/plain": [
       "0.7942531803740617"
      ]
     },
     "execution_count": 412,
     "metadata": {},
     "output_type": "execute_result"
    }
   ],
   "source": [
    "gbr_score=r2_score(yr_test,y_gbr)\n",
    "gbr_score"
   ]
  },
  {
   "cell_type": "code",
   "execution_count": 413,
   "metadata": {},
   "outputs": [
    {
     "data": {
      "text/plain": [
       "220.48096007581228"
      ]
     },
     "execution_count": 413,
     "metadata": {},
     "output_type": "execute_result"
    }
   ],
   "source": [
    "gbr_rmse=np.sqrt(mean_squared_error(yr_test,y_gbr))\n",
    "gbr_rmse"
   ]
  },
  {
   "cell_type": "code",
   "execution_count": 414,
   "metadata": {},
   "outputs": [
    {
     "data": {
      "text/plain": [
       "9.96883350692626"
      ]
     },
     "execution_count": 414,
     "metadata": {},
     "output_type": "execute_result"
    }
   ],
   "source": [
    "gbr_rmae=np.sqrt(mean_absolute_error(yr_test,y_gbr))\n",
    "gbr_rmae"
   ]
  },
  {
   "cell_type": "code",
   "execution_count": 415,
   "metadata": {},
   "outputs": [
    {
     "data": {
      "text/plain": [
       "0.7103538897450405"
      ]
     },
     "execution_count": 415,
     "metadata": {},
     "output_type": "execute_result"
    }
   ],
   "source": [
    "gbr_cvs=cross_val_score(gbr,Xr,yr,cv=5).mean()\n",
    "gbr_cvs"
   ]
  },
  {
   "cell_type": "markdown",
   "metadata": {},
   "source": [
    "**Saving performance metrics of all models in single dataframe**"
   ]
  },
  {
   "cell_type": "code",
   "execution_count": 418,
   "metadata": {},
   "outputs": [
    {
     "data": {
      "text/html": [
       "<div>\n",
       "<style scoped>\n",
       "    .dataframe tbody tr th:only-of-type {\n",
       "        vertical-align: middle;\n",
       "    }\n",
       "\n",
       "    .dataframe tbody tr th {\n",
       "        vertical-align: top;\n",
       "    }\n",
       "\n",
       "    .dataframe thead th {\n",
       "        text-align: right;\n",
       "    }\n",
       "</style>\n",
       "<table border=\"1\" class=\"dataframe\">\n",
       "  <thead>\n",
       "    <tr style=\"text-align: right;\">\n",
       "      <th></th>\n",
       "      <th>Model</th>\n",
       "      <th>R2 Score</th>\n",
       "      <th>Cross Val Score</th>\n",
       "      <th>RMSE</th>\n",
       "      <th>RMAE</th>\n",
       "    </tr>\n",
       "  </thead>\n",
       "  <tbody>\n",
       "    <tr>\n",
       "      <th>0</th>\n",
       "      <td>Linear Regressor</td>\n",
       "      <td>0.530548</td>\n",
       "      <td>0.424688</td>\n",
       "      <td>333.042830</td>\n",
       "      <td>14.927565</td>\n",
       "    </tr>\n",
       "    <tr>\n",
       "      <th>1</th>\n",
       "      <td>KNN Regressor</td>\n",
       "      <td>0.771798</td>\n",
       "      <td>0.670378</td>\n",
       "      <td>232.201015</td>\n",
       "      <td>10.280436</td>\n",
       "    </tr>\n",
       "    <tr>\n",
       "      <th>2</th>\n",
       "      <td>SVR</td>\n",
       "      <td>-0.183272</td>\n",
       "      <td>-0.188571</td>\n",
       "      <td>528.745576</td>\n",
       "      <td>16.131584</td>\n",
       "    </tr>\n",
       "    <tr>\n",
       "      <th>3</th>\n",
       "      <td>RandomForest Regressor</td>\n",
       "      <td>0.811097</td>\n",
       "      <td>0.754282</td>\n",
       "      <td>211.263461</td>\n",
       "      <td>9.799427</td>\n",
       "    </tr>\n",
       "    <tr>\n",
       "      <th>4</th>\n",
       "      <td>GradientBoosting Regressor</td>\n",
       "      <td>0.794253</td>\n",
       "      <td>0.710354</td>\n",
       "      <td>220.480960</td>\n",
       "      <td>9.968834</td>\n",
       "    </tr>\n",
       "  </tbody>\n",
       "</table>\n",
       "</div>"
      ],
      "text/plain": [
       "                        Model  R2 Score  Cross Val Score        RMSE  \\\n",
       "0            Linear Regressor  0.530548         0.424688  333.042830   \n",
       "1               KNN Regressor  0.771798         0.670378  232.201015   \n",
       "2                         SVR -0.183272        -0.188571  528.745576   \n",
       "3      RandomForest Regressor  0.811097         0.754282  211.263461   \n",
       "4  GradientBoosting Regressor  0.794253         0.710354  220.480960   \n",
       "\n",
       "        RMAE  \n",
       "0  14.927565  \n",
       "1  10.280436  \n",
       "2  16.131584  \n",
       "3   9.799427  \n",
       "4   9.968834  "
      ]
     },
     "execution_count": 418,
     "metadata": {},
     "output_type": "execute_result"
    }
   ],
   "source": [
    "metrics=pd.DataFrame()\n",
    "metrics['Model']=['Linear Regressor','KNN Regressor','SVR','RandomForest Regressor','GradientBoosting Regressor']\n",
    "metrics['R2 Score']=[lr_score,knr_score,svr_score,rfr_score,gbr_score]\n",
    "metrics['Cross Val Score']=[lr_cvs,knr_cvs,svr_cvs,rfr_cvs,gbr_cvs]\n",
    "metrics['RMSE']=[lr_rmse,knr_rmse,svr_rmse,rfr_rmse,gbr_rmse]\n",
    "metrics['RMAE']=[lr_rmae,knr_rmae,svr_rmae,rfr_rmae,gbr_rmae]\n",
    "\n",
    "metrics"
   ]
  },
  {
   "cell_type": "markdown",
   "metadata": {},
   "source": [
    "**Based on the above table, Random Forest Regressor is our best model**"
   ]
  },
  {
   "cell_type": "markdown",
   "metadata": {},
   "source": [
    "## Tunning the hyperparameters of the best model"
   ]
  },
  {
   "cell_type": "code",
   "execution_count": 419,
   "metadata": {},
   "outputs": [],
   "source": [
    "from sklearn.model_selection import GridSearchCV"
   ]
  },
  {
   "cell_type": "code",
   "execution_count": 420,
   "metadata": {},
   "outputs": [],
   "source": [
    "rfr_grid={'n_estimators': [80,100,120],\n",
    "          'criterion': ['mse', 'mae'],\n",
    "          'min_samples_split': [2,4,5,6],\n",
    "          'min_samples_leaf': [1,2,3],\n",
    "          'max_leaf_nodes': [4,10,None]}"
   ]
  },
  {
   "cell_type": "code",
   "execution_count": 421,
   "metadata": {},
   "outputs": [],
   "source": [
    "gridCV=GridSearchCV(rfr,param_grid=rfr_grid,n_jobs=-1)"
   ]
  },
  {
   "cell_type": "code",
   "execution_count": 422,
   "metadata": {},
   "outputs": [
    {
     "data": {
      "text/plain": [
       "GridSearchCV(estimator=RandomForestRegressor(), n_jobs=-1,\n",
       "             param_grid={'criterion': ['mse', 'mae'],\n",
       "                         'max_leaf_nodes': [4, 10, None],\n",
       "                         'min_samples_leaf': [1, 2, 3],\n",
       "                         'min_samples_split': [2, 4, 5, 6],\n",
       "                         'n_estimators': [80, 100, 120]})"
      ]
     },
     "execution_count": 422,
     "metadata": {},
     "output_type": "execute_result"
    }
   ],
   "source": [
    "gridCV.fit(Xr_train,yr_train)"
   ]
  },
  {
   "cell_type": "code",
   "execution_count": 423,
   "metadata": {},
   "outputs": [
    {
     "data": {
      "text/plain": [
       "{'criterion': 'mae',\n",
       " 'max_leaf_nodes': None,\n",
       " 'min_samples_leaf': 1,\n",
       " 'min_samples_split': 2,\n",
       " 'n_estimators': 100}"
      ]
     },
     "execution_count": 423,
     "metadata": {},
     "output_type": "execute_result"
    }
   ],
   "source": [
    "gridCV.best_params_"
   ]
  },
  {
   "cell_type": "code",
   "execution_count": 424,
   "metadata": {},
   "outputs": [],
   "source": [
    "rfr_best=RandomForestRegressor(criterion='mae',max_leaf_nodes=None,min_samples_leaf=1,min_samples_split=2,n_estimators=100)"
   ]
  },
  {
   "cell_type": "code",
   "execution_count": 425,
   "metadata": {},
   "outputs": [
    {
     "data": {
      "text/plain": [
       "RandomForestRegressor(criterion='mae')"
      ]
     },
     "execution_count": 425,
     "metadata": {},
     "output_type": "execute_result"
    }
   ],
   "source": [
    "rfr_best.fit(Xr_train,yr_train)"
   ]
  },
  {
   "cell_type": "code",
   "execution_count": 427,
   "metadata": {},
   "outputs": [],
   "source": [
    "y_best=rfr_best.predict(Xr_test)"
   ]
  },
  {
   "cell_type": "code",
   "execution_count": 428,
   "metadata": {},
   "outputs": [
    {
     "data": {
      "text/plain": [
       "0.8140525500209559"
      ]
     },
     "execution_count": 428,
     "metadata": {},
     "output_type": "execute_result"
    }
   ],
   "source": [
    "best_score=r2_score(yr_test,y_best)\n",
    "best_score"
   ]
  },
  {
   "cell_type": "code",
   "execution_count": 429,
   "metadata": {},
   "outputs": [
    {
     "data": {
      "text/plain": [
       "209.60403531351992"
      ]
     },
     "execution_count": 429,
     "metadata": {},
     "output_type": "execute_result"
    }
   ],
   "source": [
    "best_rmse=np.sqrt(mean_squared_error(yr_test,y_best))\n",
    "best_rmse"
   ]
  },
  {
   "cell_type": "code",
   "execution_count": 430,
   "metadata": {},
   "outputs": [
    {
     "data": {
      "text/plain": [
       "9.696922971353313"
      ]
     },
     "execution_count": 430,
     "metadata": {},
     "output_type": "execute_result"
    }
   ],
   "source": [
    "best_rmae=np.sqrt(mean_absolute_error(yr_test,y_best))\n",
    "best_rmae"
   ]
  },
  {
   "cell_type": "code",
   "execution_count": 431,
   "metadata": {},
   "outputs": [
    {
     "data": {
      "text/plain": [
       "0.756802589170176"
      ]
     },
     "execution_count": 431,
     "metadata": {},
     "output_type": "execute_result"
    }
   ],
   "source": [
    "best_cvs=cross_val_score(rfr_best,Xr,yr,cv=5).mean()\n",
    "best_cvs"
   ]
  },
  {
   "cell_type": "code",
   "execution_count": 432,
   "metadata": {},
   "outputs": [
    {
     "data": {
      "text/plain": [
       "Text(0.5, 1.0, 'Actual vs Predicted')"
      ]
     },
     "execution_count": 432,
     "metadata": {},
     "output_type": "execute_result"
    },
    {
     "data": {
      "image/png": "[encoded data removed]",
      "text/plain": [
       "<Figure size 432x288 with 1 Axes>"
      ]
     },
     "metadata": {
      "needs_background": "light"
     },
     "output_type": "display_data"
    }
   ],
   "source": [
    "parameters = {'ytick.labelsize': 12,\n",
    "          'xtick.labelsize': 12,'axes.labelsize': 15,\n",
    "          'axes.titlesize': 15}\n",
    "plt.rcParams.update(parameters)\n",
    "\n",
    "\n",
    "\n",
    "plt.scatter(yr_test,y_best)\n",
    "plt.xlabel('Actual capacity_mw')\n",
    "plt.ylabel('Predicted capacity_mw')\n",
    "plt.title('Actual vs Predicted')"
   ]
  },
  {
   "cell_type": "code",
   "execution_count": 433,
   "metadata": {},
   "outputs": [],
   "source": [
    "pred_capacity_mw=y_best"
   ]
  },
  {
   "cell_type": "markdown",
   "metadata": {},
   "source": [
    "**Printing the prediction**"
   ]
  },
  {
   "cell_type": "code",
   "execution_count": 434,
   "metadata": {},
   "outputs": [
    {
     "data": {
      "text/plain": [
       "array([  10.512  ,   35.759  ,  757.054  ,   26.7559 ,   15.6356 ,\n",
       "       1145.7    ,  407.36   ,   18.5108 ,  518.07977,   18.4185 ,\n",
       "          9.47   ,   64.7585 ,   96.5271 ,   49.6417 ,   13.865  ,\n",
       "         38.8323 ,   45.601  ,   89.379  , 1372.3124 ,   72.4354 ,\n",
       "         28.538  ,  705.292  ,   61.838  , 1294.204  , 1357.0308 ,\n",
       "         26.7505 ,  112.4661 ,  141.5937 ,   28.3    , 1740.6708 ,\n",
       "         73.5885 ,   23.992  ,  132.9938 ,  434.70316, 1418.405  ,\n",
       "        330.27114,   36.235  ,    3.6    ,   41.1475 ,    7.69   ,\n",
       "         13.322  ,   18.893  ,   35.96   ,   20.042  ,   69.94   ,\n",
       "         27.6635 , 1356.325  ,  358.81199,  591.01441,   53.4045 ,\n",
       "       1010.6858 , 1182.8    ,    5.52   ,   44.688  ,   53.632  ,\n",
       "        104.6115 , 1278.7    ,   27.6042 ,   71.2975 ,  113.363  ,\n",
       "         18.4185 ,  281.7863 ,  329.18884,   17.266  ,  106.3054 ,\n",
       "         75.321  ,   32.4555 ,   75.051  ,  453.11215,  580.498  ,\n",
       "        624.59258,   11.096  ,   50.9842 ,   34.456  , 1009.8458 ,\n",
       "         44.9625 ,   96.975  ,  195.7914 ,   25.2645 ,  116.155  ,\n",
       "        263.2124 ,   56.026  ,  138.6805 ,   72.415  ,   35.925  ,\n",
       "         44.6205 ,   32.4781 ,   11.09   ,   54.0235 ,   46.6615 ,\n",
       "        121.309  ,    6.55   ,   68.648  ,   11.6315 , 1346.8374 ,\n",
       "        808.716  ,   11.558  ,   18.4185 ,   47.0183 ,  415.235  ,\n",
       "       1216.0594 ,   16.9445 ,   91.074  ,   57.564  , 1243.8308 ,\n",
       "       1021.3    ,    8.2355 ,  376.488  ,   34.2575 ,    7.266  ,\n",
       "         15.9476 ,  550.58916,  749.2508 ,   48.224  ,  385.57976,\n",
       "         30.1955 ,   10.9492 ,  505.4774 , 1039.03   ,  356.665  ,\n",
       "         57.615  , 1293.1    ,   15.318  ,   16.61   ,  289.5378 ,\n",
       "         17.5359 ,  384.68732,   11.508  ,   33.368  ,    8.9994 ,\n",
       "        331.58344,   12.994  ,   34.95   ,   54.282  ,   36.9165 ,\n",
       "        284.98861,   77.8288 ,  108.962  ,  575.25   ,   11.5685 ,\n",
       "         27.668  ,   10.19   ,  552.612  ,  272.19   , 1362.8874 ,\n",
       "         67.9855 ,    5.552  ,    5.102  ,  444.95658,   10.4075 ,\n",
       "         46.0345 ,    9.6085 ,  113.8672 ,   56.1595 ,  148.1948 ,\n",
       "        570.20112,   10.333  ,    9.09   ,  136.06571,  267.91356,\n",
       "         26.049  , 1387.43   ,  238.691  ,  318.74692,   46.493  ,\n",
       "       1082.8216 ,   45.0882 ,  116.7478 ,   10.5675 ,   77.48   ,\n",
       "          2.98   ,  210.9206 , 1355.275  ,    6.0625 , 1361.525  ,\n",
       "          5.961  ,  514.56331, 1305.4208 ])"
      ]
     },
     "execution_count": 434,
     "metadata": {},
     "output_type": "execute_result"
    }
   ],
   "source": [
    "pred_capacity_mw"
   ]
  },
  {
   "cell_type": "markdown",
   "metadata": {},
   "source": [
    "### Saving the best regression model for 'capacity_mw' prediction"
   ]
  },
  {
   "cell_type": "code",
   "execution_count": 435,
   "metadata": {},
   "outputs": [],
   "source": [
    "import pickle\n",
    "filename='capacity_mw_rfr.pkl'\n",
    "pickle.dump(rfr_best,open(filename,'wb'))"
   ]
  },
  {
   "cell_type": "markdown",
   "metadata": {},
   "source": [
    "<font color='red'>\n",
    "             \n",
    "# Classification analysis for 'primary_fuel' prediction"
   ]
  },
  {
   "cell_type": "markdown",
   "metadata": {},
   "source": [
    "**Checking the relationship between features and target**"
   ]
  },
  {
   "cell_type": "code",
   "execution_count": 569,
   "metadata": {},
   "outputs": [],
   "source": [
    "from sklearn.feature_selection import SelectKBest\n",
    "from sklearn.feature_selection import f_classif"
   ]
  },
  {
   "cell_type": "code",
   "execution_count": 571,
   "metadata": {},
   "outputs": [
    {
     "data": {
      "text/plain": [
       "SelectKBest(k=11)"
      ]
     },
     "execution_count": 571,
     "metadata": {},
     "output_type": "execute_result"
    }
   ],
   "source": [
    "selectbest=SelectKBest(score_func=f_classif,k=11)\n",
    "selectbest.fit(data,data['primary_fuel'])"
   ]
  },
  {
   "cell_type": "code",
   "execution_count": 572,
   "metadata": {},
   "outputs": [],
   "source": [
    "scores_df=pd.DataFrame(selectbest.scores_)\n",
    "column_df=pd.DataFrame(data.columns)"
   ]
  },
  {
   "cell_type": "code",
   "execution_count": 573,
   "metadata": {
    "scrolled": true
   },
   "outputs": [
    {
     "data": {
      "text/html": [
       "<div>\n",
       "<style scoped>\n",
       "    .dataframe tbody tr th:only-of-type {\n",
       "        vertical-align: middle;\n",
       "    }\n",
       "\n",
       "    .dataframe tbody tr th {\n",
       "        vertical-align: top;\n",
       "    }\n",
       "\n",
       "    .dataframe thead th {\n",
       "        text-align: right;\n",
       "    }\n",
       "</style>\n",
       "<table border=\"1\" class=\"dataframe\">\n",
       "  <thead>\n",
       "    <tr style=\"text-align: right;\">\n",
       "      <th></th>\n",
       "      <th>Features</th>\n",
       "      <th>Scores</th>\n",
       "    </tr>\n",
       "  </thead>\n",
       "  <tbody>\n",
       "    <tr>\n",
       "      <th>3</th>\n",
       "      <td>primary_fuel</td>\n",
       "      <td>inf</td>\n",
       "    </tr>\n",
       "    <tr>\n",
       "      <th>5</th>\n",
       "      <td>geolocation_source</td>\n",
       "      <td>2640.273973</td>\n",
       "    </tr>\n",
       "    <tr>\n",
       "      <th>4</th>\n",
       "      <td>commissioning_year</td>\n",
       "      <td>93.798712</td>\n",
       "    </tr>\n",
       "    <tr>\n",
       "      <th>0</th>\n",
       "      <td>capacity_mw</td>\n",
       "      <td>60.627612</td>\n",
       "    </tr>\n",
       "    <tr>\n",
       "      <th>9</th>\n",
       "      <td>generation_gwh_2016</td>\n",
       "      <td>49.801271</td>\n",
       "    </tr>\n",
       "    <tr>\n",
       "      <th>7</th>\n",
       "      <td>generation_gwh_2014</td>\n",
       "      <td>44.506928</td>\n",
       "    </tr>\n",
       "    <tr>\n",
       "      <th>10</th>\n",
       "      <td>generation_gwh_2017</td>\n",
       "      <td>43.695378</td>\n",
       "    </tr>\n",
       "    <tr>\n",
       "      <th>8</th>\n",
       "      <td>generation_gwh_2015</td>\n",
       "      <td>42.572675</td>\n",
       "    </tr>\n",
       "    <tr>\n",
       "      <th>6</th>\n",
       "      <td>generation_gwh_2013</td>\n",
       "      <td>41.201496</td>\n",
       "    </tr>\n",
       "    <tr>\n",
       "      <th>2</th>\n",
       "      <td>longitude</td>\n",
       "      <td>24.808333</td>\n",
       "    </tr>\n",
       "    <tr>\n",
       "      <th>1</th>\n",
       "      <td>latitude</td>\n",
       "      <td>14.717565</td>\n",
       "    </tr>\n",
       "  </tbody>\n",
       "</table>\n",
       "</div>"
      ],
      "text/plain": [
       "               Features       Scores\n",
       "3          primary_fuel          inf\n",
       "5    geolocation_source  2640.273973\n",
       "4    commissioning_year    93.798712\n",
       "0           capacity_mw    60.627612\n",
       "9   generation_gwh_2016    49.801271\n",
       "7   generation_gwh_2014    44.506928\n",
       "10  generation_gwh_2017    43.695378\n",
       "8   generation_gwh_2015    42.572675\n",
       "6   generation_gwh_2013    41.201496\n",
       "2             longitude    24.808333\n",
       "1              latitude    14.717565"
      ]
     },
     "execution_count": 573,
     "metadata": {},
     "output_type": "execute_result"
    }
   ],
   "source": [
    "feature_scores=pd.concat([column_df,scores_df],axis=1) # Concating two DFs\n",
    "feature_scores.columns=['Features','Scores'] # Naming the columns\n",
    "feature_scores.nlargest(11,'Scores')"
   ]
  },
  {
   "cell_type": "markdown",
   "metadata": {},
   "source": [
    "- 'geolocation_source' show strong relationship with the target\n",
    "- Other features show weak relationship with the target"
   ]
  },
  {
   "cell_type": "markdown",
   "metadata": {},
   "source": [
    "**Seperating features and the label**"
   ]
  },
  {
   "cell_type": "code",
   "execution_count": 438,
   "metadata": {},
   "outputs": [],
   "source": [
    "Xc=data.drop('primary_fuel',axis=1)\n",
    "yc=data['primary_fuel']"
   ]
  },
  {
   "cell_type": "markdown",
   "metadata": {},
   "source": [
    "**Scaling the features**"
   ]
  },
  {
   "cell_type": "code",
   "execution_count": 439,
   "metadata": {},
   "outputs": [],
   "source": [
    "Xc=scaler.fit_transform(Xc)"
   ]
  },
  {
   "cell_type": "markdown",
   "metadata": {},
   "source": [
    "**Splitting the data into training and testing sets**"
   ]
  },
  {
   "cell_type": "code",
   "execution_count": 457,
   "metadata": {},
   "outputs": [],
   "source": [
    "Xc_train,Xc_test,yc_train,yc_test=train_test_split(Xc,yc,test_size=0.25,random_state=42)"
   ]
  },
  {
   "cell_type": "markdown",
   "metadata": {},
   "source": [
    "**Importing the classification performance metrics**"
   ]
  },
  {
   "cell_type": "code",
   "execution_count": 458,
   "metadata": {},
   "outputs": [],
   "source": [
    "from sklearn.metrics import accuracy_score,confusion_matrix,classification_report,roc_auc_score,roc_curve,plot_roc_curve\n",
    "from sklearn.model_selection import cross_val_score"
   ]
  },
  {
   "cell_type": "markdown",
   "metadata": {},
   "source": [
    "## Model 1: AdaBoostClassifier"
   ]
  },
  {
   "cell_type": "code",
   "execution_count": 525,
   "metadata": {},
   "outputs": [],
   "source": [
    "from sklearn.ensemble import AdaBoostClassifier\n",
    "abc=AdaBoostClassifier()"
   ]
  },
  {
   "cell_type": "code",
   "execution_count": 526,
   "metadata": {},
   "outputs": [
    {
     "data": {
      "text/plain": [
       "AdaBoostClassifier()"
      ]
     },
     "execution_count": 526,
     "metadata": {},
     "output_type": "execute_result"
    }
   ],
   "source": [
    "abc.fit(Xc_train,yc_train)"
   ]
  },
  {
   "cell_type": "code",
   "execution_count": 527,
   "metadata": {},
   "outputs": [],
   "source": [
    "y_abc=abc.predict(Xc_test)"
   ]
  },
  {
   "cell_type": "code",
   "execution_count": 528,
   "metadata": {},
   "outputs": [
    {
     "data": {
      "text/plain": [
       "0.484304932735426"
      ]
     },
     "execution_count": 528,
     "metadata": {},
     "output_type": "execute_result"
    }
   ],
   "source": [
    "abc_score=accuracy_score(yc_test,y_abc)\n",
    "abc_score"
   ]
  },
  {
   "cell_type": "code",
   "execution_count": 529,
   "metadata": {},
   "outputs": [
    {
     "data": {
      "text/plain": [
       "0.5337078651685394"
      ]
     },
     "execution_count": 529,
     "metadata": {},
     "output_type": "execute_result"
    }
   ],
   "source": [
    "abc_cvs=cross_val_score(abc,Xc,yc,cv=5).mean()\n",
    "abc_cvs"
   ]
  },
  {
   "cell_type": "code",
   "execution_count": 530,
   "metadata": {},
   "outputs": [
    {
     "name": "stdout",
     "output_type": "stream",
     "text": [
      "[[ 0  0  0 10  0  0  0  0]\n",
      " [ 0 17  0 42  0  0  0  0]\n",
      " [ 0  1  0 13  0  0  0  0]\n",
      " [ 0  4  0 61  0  0  0  0]\n",
      " [ 0  0  0  2  0  0  0  0]\n",
      " [ 0  0  0  6  0  0  0  0]\n",
      " [ 0  1  0  1  0  0 30  0]\n",
      " [ 0  0  0 35  0  0  0  0]]\n"
     ]
    }
   ],
   "source": [
    "print(confusion_matrix(yc_test,y_abc))"
   ]
  },
  {
   "cell_type": "code",
   "execution_count": 531,
   "metadata": {},
   "outputs": [
    {
     "name": "stdout",
     "output_type": "stream",
     "text": [
      "              precision    recall  f1-score   support\n",
      "\n",
      "           0       0.00      0.00      0.00        10\n",
      "           1       0.74      0.29      0.41        59\n",
      "           2       0.00      0.00      0.00        14\n",
      "           3       0.36      0.94      0.52        65\n",
      "           4       0.00      0.00      0.00         2\n",
      "           5       0.00      0.00      0.00         6\n",
      "           6       1.00      0.94      0.97        32\n",
      "           7       0.00      0.00      0.00        35\n",
      "\n",
      "    accuracy                           0.48       223\n",
      "   macro avg       0.26      0.27      0.24       223\n",
      "weighted avg       0.44      0.48      0.40       223\n",
      "\n"
     ]
    }
   ],
   "source": [
    "print(classification_report(yc_test,y_abc))"
   ]
  },
  {
   "cell_type": "markdown",
   "metadata": {},
   "source": [
    "## Model 2: KNeighborsClassifier"
   ]
  },
  {
   "cell_type": "code",
   "execution_count": 466,
   "metadata": {},
   "outputs": [],
   "source": [
    "from sklearn.neighbors import KNeighborsClassifier\n",
    "knc=KNeighborsClassifier()"
   ]
  },
  {
   "cell_type": "code",
   "execution_count": 467,
   "metadata": {},
   "outputs": [
    {
     "data": {
      "text/plain": [
       "KNeighborsClassifier()"
      ]
     },
     "execution_count": 467,
     "metadata": {},
     "output_type": "execute_result"
    }
   ],
   "source": [
    "knc.fit(Xc_train,yc_train)"
   ]
  },
  {
   "cell_type": "code",
   "execution_count": 468,
   "metadata": {},
   "outputs": [],
   "source": [
    "y_knc=knc.predict(Xc_test)"
   ]
  },
  {
   "cell_type": "code",
   "execution_count": 469,
   "metadata": {},
   "outputs": [
    {
     "data": {
      "text/plain": [
       "0.8026905829596412"
      ]
     },
     "execution_count": 469,
     "metadata": {},
     "output_type": "execute_result"
    }
   ],
   "source": [
    "knc_score=accuracy_score(yc_test,y_knc)\n",
    "knc_score"
   ]
  },
  {
   "cell_type": "code",
   "execution_count": 470,
   "metadata": {},
   "outputs": [
    {
     "data": {
      "text/plain": [
       "0.7808988764044944"
      ]
     },
     "execution_count": 470,
     "metadata": {},
     "output_type": "execute_result"
    }
   ],
   "source": [
    "knc_cvs=cross_val_score(knc,Xc,yc,cv=5).mean()\n",
    "knc_cvs"
   ]
  },
  {
   "cell_type": "code",
   "execution_count": 471,
   "metadata": {},
   "outputs": [
    {
     "name": "stdout",
     "output_type": "stream",
     "text": [
      "[[ 6  3  0  0  0  0  0  1]\n",
      " [ 1 53  1  4  0  0  0  0]\n",
      " [ 0  3  8  3  0  0  0  0]\n",
      " [ 0  8  3 54  0  0  0  0]\n",
      " [ 0  2  0  0  0  0  0  0]\n",
      " [ 0  2  2  1  0  1  0  0]\n",
      " [ 0  0  0  0  0  0 30  2]\n",
      " [ 5  3  0  0  0  0  0 27]]\n"
     ]
    }
   ],
   "source": [
    "print(confusion_matrix(yc_test,y_knc))"
   ]
  },
  {
   "cell_type": "code",
   "execution_count": 472,
   "metadata": {},
   "outputs": [
    {
     "name": "stdout",
     "output_type": "stream",
     "text": [
      "              precision    recall  f1-score   support\n",
      "\n",
      "           0       0.50      0.60      0.55        10\n",
      "           1       0.72      0.90      0.80        59\n",
      "           2       0.57      0.57      0.57        14\n",
      "           3       0.87      0.83      0.85        65\n",
      "           4       0.00      0.00      0.00         2\n",
      "           5       1.00      0.17      0.29         6\n",
      "           6       1.00      0.94      0.97        32\n",
      "           7       0.90      0.77      0.83        35\n",
      "\n",
      "    accuracy                           0.80       223\n",
      "   macro avg       0.69      0.60      0.61       223\n",
      "weighted avg       0.81      0.80      0.80       223\n",
      "\n"
     ]
    }
   ],
   "source": [
    "print(classification_report(yc_test,y_knc))"
   ]
  },
  {
   "cell_type": "markdown",
   "metadata": {},
   "source": [
    "## Model 3: SVC"
   ]
  },
  {
   "cell_type": "code",
   "execution_count": 475,
   "metadata": {},
   "outputs": [],
   "source": [
    "from sklearn.svm import SVC\n",
    "svc=SVC()"
   ]
  },
  {
   "cell_type": "code",
   "execution_count": 476,
   "metadata": {},
   "outputs": [
    {
     "data": {
      "text/plain": [
       "SVC()"
      ]
     },
     "execution_count": 476,
     "metadata": {},
     "output_type": "execute_result"
    }
   ],
   "source": [
    "svc.fit(Xc_train,yc_train)"
   ]
  },
  {
   "cell_type": "code",
   "execution_count": 478,
   "metadata": {},
   "outputs": [],
   "source": [
    "y_svc=svc.predict(Xc_test)"
   ]
  },
  {
   "cell_type": "code",
   "execution_count": 479,
   "metadata": {},
   "outputs": [
    {
     "data": {
      "text/plain": [
       "0.7533632286995515"
      ]
     },
     "execution_count": 479,
     "metadata": {},
     "output_type": "execute_result"
    }
   ],
   "source": [
    "svc_score=accuracy_score(yc_test,y_svc)\n",
    "svc_score"
   ]
  },
  {
   "cell_type": "code",
   "execution_count": 480,
   "metadata": {},
   "outputs": [
    {
     "data": {
      "text/plain": [
       "0.7157303370786516"
      ]
     },
     "execution_count": 480,
     "metadata": {},
     "output_type": "execute_result"
    }
   ],
   "source": [
    "svc_cvs=cross_val_score(svc,Xc,yc,cv=5).mean()\n",
    "svc_cvs"
   ]
  },
  {
   "cell_type": "code",
   "execution_count": 481,
   "metadata": {},
   "outputs": [
    {
     "name": "stdout",
     "output_type": "stream",
     "text": [
      "[[ 0  2  0  0  0  0  0  8]\n",
      " [ 0 49  2  4  0  0  0  4]\n",
      " [ 0  4  2  6  0  0  0  2]\n",
      " [ 0  7  0 58  0  0  0  0]\n",
      " [ 0  2  0  0  0  0  0  0]\n",
      " [ 0  1  1  2  0  0  0  2]\n",
      " [ 0  2  0  0  0  0 30  0]\n",
      " [ 0  6  0  0  0  0  0 29]]\n"
     ]
    }
   ],
   "source": [
    "print(confusion_matrix(yc_test,y_svc))"
   ]
  },
  {
   "cell_type": "code",
   "execution_count": 482,
   "metadata": {},
   "outputs": [
    {
     "name": "stdout",
     "output_type": "stream",
     "text": [
      "              precision    recall  f1-score   support\n",
      "\n",
      "           0       0.00      0.00      0.00        10\n",
      "           1       0.67      0.83      0.74        59\n",
      "           2       0.40      0.14      0.21        14\n",
      "           3       0.83      0.89      0.86        65\n",
      "           4       0.00      0.00      0.00         2\n",
      "           5       0.00      0.00      0.00         6\n",
      "           6       1.00      0.94      0.97        32\n",
      "           7       0.64      0.83      0.73        35\n",
      "\n",
      "    accuracy                           0.75       223\n",
      "   macro avg       0.44      0.45      0.44       223\n",
      "weighted avg       0.69      0.75      0.71       223\n",
      "\n"
     ]
    }
   ],
   "source": [
    "print(classification_report(yc_test,y_svc))"
   ]
  },
  {
   "cell_type": "markdown",
   "metadata": {},
   "source": [
    "## Model 4: Random Forest Classifier"
   ]
  },
  {
   "cell_type": "code",
   "execution_count": 484,
   "metadata": {},
   "outputs": [],
   "source": [
    "from sklearn.ensemble import RandomForestClassifier\n",
    "rfc=RandomForestClassifier()"
   ]
  },
  {
   "cell_type": "code",
   "execution_count": 485,
   "metadata": {},
   "outputs": [
    {
     "data": {
      "text/plain": [
       "RandomForestClassifier()"
      ]
     },
     "execution_count": 485,
     "metadata": {},
     "output_type": "execute_result"
    }
   ],
   "source": [
    "rfc.fit(Xc_train,yc_train)"
   ]
  },
  {
   "cell_type": "code",
   "execution_count": 486,
   "metadata": {},
   "outputs": [],
   "source": [
    "y_rfc=rfc.predict(Xc_test)"
   ]
  },
  {
   "cell_type": "code",
   "execution_count": 487,
   "metadata": {},
   "outputs": [
    {
     "data": {
      "text/plain": [
       "0.8340807174887892"
      ]
     },
     "execution_count": 487,
     "metadata": {},
     "output_type": "execute_result"
    }
   ],
   "source": [
    "rfc_score=accuracy_score(yc_test,y_rfc)\n",
    "rfc_score"
   ]
  },
  {
   "cell_type": "code",
   "execution_count": 550,
   "metadata": {},
   "outputs": [
    {
     "data": {
      "text/plain": [
       "0.8247191011235955"
      ]
     },
     "execution_count": 550,
     "metadata": {},
     "output_type": "execute_result"
    }
   ],
   "source": [
    "rfc_cvs=cross_val_score(rfc,Xc,yc,cv=5).mean()\n",
    "rfc_cvs"
   ]
  },
  {
   "cell_type": "code",
   "execution_count": 489,
   "metadata": {},
   "outputs": [
    {
     "name": "stdout",
     "output_type": "stream",
     "text": [
      "[[ 7  1  0  0  0  0  0  2]\n",
      " [ 2 51  3  1  0  1  0  1]\n",
      " [ 0  2  6  5  0  1  0  0]\n",
      " [ 0  6  1 58  0  0  0  0]\n",
      " [ 0  2  0  0  0  0  0  0]\n",
      " [ 0  1  3  0  0  2  0  0]\n",
      " [ 0  0  0  0  0  0 30  2]\n",
      " [ 0  3  0  0  0  0  0 32]]\n"
     ]
    }
   ],
   "source": [
    "print(confusion_matrix(yc_test,y_rfc))"
   ]
  },
  {
   "cell_type": "code",
   "execution_count": 490,
   "metadata": {},
   "outputs": [
    {
     "name": "stdout",
     "output_type": "stream",
     "text": [
      "              precision    recall  f1-score   support\n",
      "\n",
      "           0       0.78      0.70      0.74        10\n",
      "           1       0.77      0.86      0.82        59\n",
      "           2       0.46      0.43      0.44        14\n",
      "           3       0.91      0.89      0.90        65\n",
      "           4       0.00      0.00      0.00         2\n",
      "           5       0.50      0.33      0.40         6\n",
      "           6       1.00      0.94      0.97        32\n",
      "           7       0.86      0.91      0.89        35\n",
      "\n",
      "    accuracy                           0.83       223\n",
      "   macro avg       0.66      0.63      0.64       223\n",
      "weighted avg       0.83      0.83      0.83       223\n",
      "\n"
     ]
    }
   ],
   "source": [
    "print(classification_report(yc_test,y_rfc))"
   ]
  },
  {
   "cell_type": "markdown",
   "metadata": {},
   "source": [
    "## Model 5: AdaBoost Classifier"
   ]
  },
  {
   "cell_type": "code",
   "execution_count": 507,
   "metadata": {},
   "outputs": [],
   "source": [
    "from sklearn.ensemble import GradientBoostingClassifier\n",
    "gbc=GradientBoostingClassifier()"
   ]
  },
  {
   "cell_type": "code",
   "execution_count": 508,
   "metadata": {},
   "outputs": [
    {
     "data": {
      "text/plain": [
       "GradientBoostingClassifier()"
      ]
     },
     "execution_count": 508,
     "metadata": {},
     "output_type": "execute_result"
    }
   ],
   "source": [
    "gbc.fit(Xc_train,yc_train)"
   ]
  },
  {
   "cell_type": "code",
   "execution_count": 509,
   "metadata": {},
   "outputs": [],
   "source": [
    "y_gbc=gbc.predict(Xc_test)"
   ]
  },
  {
   "cell_type": "code",
   "execution_count": 510,
   "metadata": {},
   "outputs": [
    {
     "data": {
      "text/plain": [
       "0.8251121076233184"
      ]
     },
     "execution_count": 510,
     "metadata": {},
     "output_type": "execute_result"
    }
   ],
   "source": [
    "gbc_score=accuracy_score(yc_test,y_gbc)\n",
    "gbc_score"
   ]
  },
  {
   "cell_type": "code",
   "execution_count": 511,
   "metadata": {},
   "outputs": [
    {
     "data": {
      "text/plain": [
       "0.802247191011236"
      ]
     },
     "execution_count": 511,
     "metadata": {},
     "output_type": "execute_result"
    }
   ],
   "source": [
    "gbc_cvs=cross_val_score(gbc,Xc,yc,cv=5).mean()\n",
    "gbc_cvs"
   ]
  },
  {
   "cell_type": "code",
   "execution_count": 512,
   "metadata": {},
   "outputs": [
    {
     "name": "stdout",
     "output_type": "stream",
     "text": [
      "[[ 5  3  0  0  0  0  0  2]\n",
      " [ 0 54  1  1  0  2  0  1]\n",
      " [ 0  3  7  3  0  1  0  0]\n",
      " [ 0  6  0 58  0  1  0  0]\n",
      " [ 0  2  0  0  0  0  0  0]\n",
      " [ 0  1  3  0  0  1  0  1]\n",
      " [ 0  0  0  0  0  0 31  1]\n",
      " [ 1  6  0  0  0  0  0 28]]\n"
     ]
    }
   ],
   "source": [
    "print(confusion_matrix(yc_test,y_gbc))"
   ]
  },
  {
   "cell_type": "code",
   "execution_count": 513,
   "metadata": {},
   "outputs": [
    {
     "name": "stdout",
     "output_type": "stream",
     "text": [
      "              precision    recall  f1-score   support\n",
      "\n",
      "           0       0.83      0.50      0.62        10\n",
      "           1       0.72      0.92      0.81        59\n",
      "           2       0.64      0.50      0.56        14\n",
      "           3       0.94      0.89      0.91        65\n",
      "           4       0.00      0.00      0.00         2\n",
      "           5       0.20      0.17      0.18         6\n",
      "           6       1.00      0.97      0.98        32\n",
      "           7       0.85      0.80      0.82        35\n",
      "\n",
      "    accuracy                           0.83       223\n",
      "   macro avg       0.65      0.59      0.61       223\n",
      "weighted avg       0.82      0.83      0.82       223\n",
      "\n"
     ]
    }
   ],
   "source": [
    "print(classification_report(yc_test,y_gbc))"
   ]
  },
  {
   "cell_type": "markdown",
   "metadata": {},
   "source": [
    "**Storing metrics for all models in single daraframe**"
   ]
  },
  {
   "cell_type": "code",
   "execution_count": 551,
   "metadata": {},
   "outputs": [
    {
     "data": {
      "text/html": [
       "<div>\n",
       "<style scoped>\n",
       "    .dataframe tbody tr th:only-of-type {\n",
       "        vertical-align: middle;\n",
       "    }\n",
       "\n",
       "    .dataframe tbody tr th {\n",
       "        vertical-align: top;\n",
       "    }\n",
       "\n",
       "    .dataframe thead th {\n",
       "        text-align: right;\n",
       "    }\n",
       "</style>\n",
       "<table border=\"1\" class=\"dataframe\">\n",
       "  <thead>\n",
       "    <tr style=\"text-align: right;\">\n",
       "      <th></th>\n",
       "      <th>Model</th>\n",
       "      <th>Accuracy Score</th>\n",
       "      <th>Cross Val Score</th>\n",
       "    </tr>\n",
       "  </thead>\n",
       "  <tbody>\n",
       "    <tr>\n",
       "      <th>0</th>\n",
       "      <td>ADAboost Classifier</td>\n",
       "      <td>0.484305</td>\n",
       "      <td>0.533708</td>\n",
       "    </tr>\n",
       "    <tr>\n",
       "      <th>1</th>\n",
       "      <td>KNN Classifier</td>\n",
       "      <td>0.802691</td>\n",
       "      <td>0.780899</td>\n",
       "    </tr>\n",
       "    <tr>\n",
       "      <th>2</th>\n",
       "      <td>SVC</td>\n",
       "      <td>0.753363</td>\n",
       "      <td>0.715730</td>\n",
       "    </tr>\n",
       "    <tr>\n",
       "      <th>3</th>\n",
       "      <td>RandomForest Classifier</td>\n",
       "      <td>0.834081</td>\n",
       "      <td>0.824719</td>\n",
       "    </tr>\n",
       "    <tr>\n",
       "      <th>4</th>\n",
       "      <td>GradientBoosting Classifier</td>\n",
       "      <td>0.825112</td>\n",
       "      <td>0.802247</td>\n",
       "    </tr>\n",
       "  </tbody>\n",
       "</table>\n",
       "</div>"
      ],
      "text/plain": [
       "                         Model  Accuracy Score  Cross Val Score\n",
       "0          ADAboost Classifier        0.484305         0.533708\n",
       "1               KNN Classifier        0.802691         0.780899\n",
       "2                          SVC        0.753363         0.715730\n",
       "3      RandomForest Classifier        0.834081         0.824719\n",
       "4  GradientBoosting Classifier        0.825112         0.802247"
      ]
     },
     "execution_count": 551,
     "metadata": {},
     "output_type": "execute_result"
    }
   ],
   "source": [
    "metrics=pd.DataFrame()\n",
    "metrics['Model']=['ADAboost Classifier','KNN Classifier','SVC','RandomForest Classifier','GradientBoosting Classifier']\n",
    "metrics['Accuracy Score']=[abc_score,knc_score,svc_score,rfc_score,gbc_score]\n",
    "metrics['Cross Val Score']=[abc_cvs,knc_cvs,svc_cvs,rfc_cvs,gbc_cvs]\n",
    "\n",
    "metrics"
   ]
  },
  {
   "cell_type": "markdown",
   "metadata": {},
   "source": [
    "**Based on the above metrics comparision, Random Forest classifier is our best model**"
   ]
  },
  {
   "cell_type": "markdown",
   "metadata": {},
   "source": [
    "## Tuning the hyperparameters of the best model"
   ]
  },
  {
   "cell_type": "code",
   "execution_count": 535,
   "metadata": {},
   "outputs": [],
   "source": [
    "from sklearn.model_selection import GridSearchCV"
   ]
  },
  {
   "cell_type": "code",
   "execution_count": 536,
   "metadata": {},
   "outputs": [],
   "source": [
    "rf_grid={'criterion':['gini','entropy'],\n",
    "         'min_samples_split':[2,4,6],\n",
    "         'min_samples_leaf':[1,2,3,5],\n",
    "         'n_estimators':[80,100,120]}"
   ]
  },
  {
   "cell_type": "code",
   "execution_count": 538,
   "metadata": {},
   "outputs": [],
   "source": [
    "gridCV=GridSearchCV(rfc,param_grid=rf_grid,n_jobs=-1)"
   ]
  },
  {
   "cell_type": "code",
   "execution_count": 539,
   "metadata": {},
   "outputs": [
    {
     "data": {
      "text/plain": [
       "GridSearchCV(estimator=RandomForestClassifier(), n_jobs=-1,\n",
       "             param_grid={'criterion': ['gini', 'entropy'],\n",
       "                         'min_samples_leaf': [1, 2, 3, 5],\n",
       "                         'min_samples_split': [2, 4, 6],\n",
       "                         'n_estimators': [80, 100, 120]})"
      ]
     },
     "execution_count": 539,
     "metadata": {},
     "output_type": "execute_result"
    }
   ],
   "source": [
    "gridCV.fit(Xc_train,yc_train)"
   ]
  },
  {
   "cell_type": "code",
   "execution_count": 540,
   "metadata": {},
   "outputs": [
    {
     "data": {
      "text/plain": [
       "{'criterion': 'gini',\n",
       " 'min_samples_leaf': 1,\n",
       " 'min_samples_split': 4,\n",
       " 'n_estimators': 120}"
      ]
     },
     "execution_count": 540,
     "metadata": {},
     "output_type": "execute_result"
    }
   ],
   "source": [
    "gridCV.best_params_"
   ]
  },
  {
   "cell_type": "code",
   "execution_count": 544,
   "metadata": {},
   "outputs": [],
   "source": [
    "rfc_best=RandomForestClassifier(criterion='gini',min_samples_leaf=1,min_samples_split=4,n_estimators=120)"
   ]
  },
  {
   "cell_type": "code",
   "execution_count": 545,
   "metadata": {},
   "outputs": [
    {
     "data": {
      "text/plain": [
       "RandomForestClassifier(min_samples_split=4, n_estimators=120)"
      ]
     },
     "execution_count": 545,
     "metadata": {},
     "output_type": "execute_result"
    }
   ],
   "source": [
    "rfc_best.fit(Xc_train,yc_train)"
   ]
  },
  {
   "cell_type": "code",
   "execution_count": 564,
   "metadata": {},
   "outputs": [],
   "source": [
    "yc_best=rfc_best.predict(Xc_test)"
   ]
  },
  {
   "cell_type": "code",
   "execution_count": 565,
   "metadata": {},
   "outputs": [
    {
     "data": {
      "text/plain": [
       "0.8430493273542601"
      ]
     },
     "execution_count": 565,
     "metadata": {},
     "output_type": "execute_result"
    }
   ],
   "source": [
    "best_score=accuracy_score(yc_test,yc_best)\n",
    "best_score"
   ]
  },
  {
   "cell_type": "code",
   "execution_count": 559,
   "metadata": {},
   "outputs": [
    {
     "data": {
      "text/plain": [
       "0.8280898876404494"
      ]
     },
     "execution_count": 559,
     "metadata": {},
     "output_type": "execute_result"
    }
   ],
   "source": [
    "best_cvs=cross_val_score(rfc_best,Xc,yc,cv=5).mean()\n",
    "best_cvs"
   ]
  },
  {
   "cell_type": "code",
   "execution_count": 566,
   "metadata": {},
   "outputs": [
    {
     "name": "stdout",
     "output_type": "stream",
     "text": [
      "[[ 7  1  0  0  0  0  0  2]\n",
      " [ 1 52  2  2  0  1  0  1]\n",
      " [ 0  2  6  5  0  1  0  0]\n",
      " [ 0  4  1 60  0  0  0  0]\n",
      " [ 0  2  0  0  0  0  0  0]\n",
      " [ 0  1  3  0  0  2  0  0]\n",
      " [ 0  0  0  0  0  0 30  2]\n",
      " [ 2  2  0  0  0  0  0 31]]\n"
     ]
    }
   ],
   "source": [
    "print(confusion_matrix(yc_test,yc_best))"
   ]
  },
  {
   "cell_type": "code",
   "execution_count": 567,
   "metadata": {
    "scrolled": true
   },
   "outputs": [
    {
     "name": "stdout",
     "output_type": "stream",
     "text": [
      "              precision    recall  f1-score   support\n",
      "\n",
      "           0       0.70      0.70      0.70        10\n",
      "           1       0.81      0.88      0.85        59\n",
      "           2       0.50      0.43      0.46        14\n",
      "           3       0.90      0.92      0.91        65\n",
      "           4       0.00      0.00      0.00         2\n",
      "           5       0.50      0.33      0.40         6\n",
      "           6       1.00      0.94      0.97        32\n",
      "           7       0.86      0.89      0.87        35\n",
      "\n",
      "    accuracy                           0.84       223\n",
      "   macro avg       0.66      0.64      0.64       223\n",
      "weighted avg       0.83      0.84      0.84       223\n",
      "\n"
     ]
    }
   ],
   "source": [
    "print(classification_report(yc_test,yc_best))"
   ]
  },
  {
   "cell_type": "markdown",
   "metadata": {},
   "source": [
    "**Printing predictions for 'primary_fuel'**"
   ]
  },
  {
   "cell_type": "code",
   "execution_count": 568,
   "metadata": {},
   "outputs": [
    {
     "data": {
      "text/plain": [
       "array([6, 7, 3, 3, 3, 1, 3, 0, 2, 7, 6, 0, 3, 5, 7, 1, 7, 1, 1, 1, 0, 1,\n",
       "       6, 1, 1, 0, 3, 3, 6, 1, 1, 1, 3, 3, 1, 3, 2, 6, 3, 6, 6, 0, 6, 6,\n",
       "       3, 7, 1, 2, 1, 7, 1, 1, 6, 1, 0, 3, 1, 1, 1, 3, 7, 3, 3, 6, 3, 3,\n",
       "       7, 3, 2, 1, 1, 6, 1, 7, 1, 7, 3, 3, 7, 1, 1, 2, 3, 3, 7, 7, 7, 6,\n",
       "       7, 3, 3, 3, 1, 3, 1, 1, 3, 7, 7, 3, 1, 0, 1, 3, 1, 1, 3, 2, 7, 6,\n",
       "       3, 1, 1, 1, 3, 5, 3, 1, 1, 5, 1, 1, 7, 3, 3, 3, 3, 3, 7, 3, 3, 3,\n",
       "       6, 7, 1, 2, 3, 3, 1, 6, 0, 6, 1, 2, 1, 7, 6, 6, 3, 6, 1, 3, 1, 7,\n",
       "       1, 1, 3, 6, 3, 3, 7, 1, 3, 2, 3, 1, 1, 2, 3, 1, 6, 5, 1, 6, 1, 6,\n",
       "       2, 1, 7, 6, 7, 3, 1, 6, 1, 3, 7, 3, 1, 3, 7, 1, 3, 3, 1, 1, 1, 3,\n",
       "       7, 7, 7, 0, 3, 7, 7, 3, 7, 6, 3, 3, 2, 6, 1, 7, 3, 3, 6, 0, 3, 1,\n",
       "       3, 6, 7])"
      ]
     },
     "execution_count": 568,
     "metadata": {},
     "output_type": "execute_result"
    }
   ],
   "source": [
    "pred_primary_fuel=yc_best\n",
    "pred_primary_fuel"
   ]
  },
  {
   "cell_type": "markdown",
   "metadata": {},
   "source": [
    "## Saving our best model"
   ]
  },
  {
   "cell_type": "code",
   "execution_count": 563,
   "metadata": {},
   "outputs": [],
   "source": [
    "import pickle\n",
    "filename='PrimaryFuel_RFC.pkl'\n",
    "pickle.dump(rfc_best,open(filename,'wb'))"
   ]
  },
  {
   "cell_type": "code",
   "execution_count": null,
   "metadata": {},
   "outputs": [],
   "source": []
  }
 ],
 "metadata": {
  "kernelspec": {
   "display_name": "Python 3",
   "language": "python",
   "name": "python3"
  },
  "language_info": {
   "codemirror_mode": {
    "name": "ipython",
    "version": 3
   },
   "file_extension": ".py",
   "mimetype": "text/x-python",
   "name": "python",
   "nbconvert_exporter": "python",
   "pygments_lexer": "ipython3",
   "version": "3.8.3"
  }
 },
 "nbformat": 4,
 "nbformat_minor": 4
}
